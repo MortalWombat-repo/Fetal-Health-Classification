{
 "cells": [
  {
   "cell_type": "code",
   "execution_count": 1,
   "id": "35dcbd66-5504-4203-96a0-4629fe21684e",
   "metadata": {},
   "outputs": [],
   "source": [
    "import pandas as pd\n",
    "import numpy as np\n",
    "import seaborn as sns\n",
    "import matplotlib.pyplot as plt\n",
    "\n",
    "from sklearn.model_selection import train_test_split\n",
    "from sklearn.tree import DecisionTreeClassifier\n",
    "from sklearn.feature_extraction import DictVectorizer\n",
    "from sklearn.metrics import roc_auc_score\n",
    "from sklearn.metrics import classification_report\n",
    "from sklearn.tree import export_text\n",
    "from sklearn.ensemble import RandomForestClassifier\n",
    "from sklearn.preprocessing import LabelEncoder\n",
    "\n",
    "from xgboost import XGBClassifier\n",
    "import xgboost as xgb\n",
    "\n",
    "from IPython.display import display"
   ]
  },
  {
   "cell_type": "code",
   "execution_count": 2,
   "id": "bce1dfa5-083e-4c66-b2eb-b6a4734fe7cc",
   "metadata": {},
   "outputs": [],
   "source": [
    "df = pd.read_csv(\"fetal_health.csv\")"
   ]
  },
  {
   "cell_type": "code",
   "execution_count": 3,
   "id": "54b7d74a-46c5-415a-b968-322055d9b8f5",
   "metadata": {},
   "outputs": [
    {
     "data": {
      "text/html": [
       "<div>\n",
       "<style scoped>\n",
       "    .dataframe tbody tr th:only-of-type {\n",
       "        vertical-align: middle;\n",
       "    }\n",
       "\n",
       "    .dataframe tbody tr th {\n",
       "        vertical-align: top;\n",
       "    }\n",
       "\n",
       "    .dataframe thead th {\n",
       "        text-align: right;\n",
       "    }\n",
       "</style>\n",
       "<table border=\"1\" class=\"dataframe\">\n",
       "  <thead>\n",
       "    <tr style=\"text-align: right;\">\n",
       "      <th></th>\n",
       "      <th>baseline value</th>\n",
       "      <th>accelerations</th>\n",
       "      <th>fetal_movement</th>\n",
       "      <th>uterine_contractions</th>\n",
       "      <th>light_decelerations</th>\n",
       "      <th>severe_decelerations</th>\n",
       "      <th>prolongued_decelerations</th>\n",
       "      <th>abnormal_short_term_variability</th>\n",
       "      <th>mean_value_of_short_term_variability</th>\n",
       "      <th>percentage_of_time_with_abnormal_long_term_variability</th>\n",
       "      <th>...</th>\n",
       "      <th>histogram_min</th>\n",
       "      <th>histogram_max</th>\n",
       "      <th>histogram_number_of_peaks</th>\n",
       "      <th>histogram_number_of_zeroes</th>\n",
       "      <th>histogram_mode</th>\n",
       "      <th>histogram_mean</th>\n",
       "      <th>histogram_median</th>\n",
       "      <th>histogram_variance</th>\n",
       "      <th>histogram_tendency</th>\n",
       "      <th>fetal_health</th>\n",
       "    </tr>\n",
       "  </thead>\n",
       "  <tbody>\n",
       "    <tr>\n",
       "      <th>0</th>\n",
       "      <td>120.0</td>\n",
       "      <td>0.000</td>\n",
       "      <td>0.000</td>\n",
       "      <td>0.000</td>\n",
       "      <td>0.000</td>\n",
       "      <td>0.0</td>\n",
       "      <td>0.0</td>\n",
       "      <td>73.0</td>\n",
       "      <td>0.5</td>\n",
       "      <td>43.0</td>\n",
       "      <td>...</td>\n",
       "      <td>62.0</td>\n",
       "      <td>126.0</td>\n",
       "      <td>2.0</td>\n",
       "      <td>0.0</td>\n",
       "      <td>120.0</td>\n",
       "      <td>137.0</td>\n",
       "      <td>121.0</td>\n",
       "      <td>73.0</td>\n",
       "      <td>1.0</td>\n",
       "      <td>2.0</td>\n",
       "    </tr>\n",
       "    <tr>\n",
       "      <th>1</th>\n",
       "      <td>132.0</td>\n",
       "      <td>0.006</td>\n",
       "      <td>0.000</td>\n",
       "      <td>0.006</td>\n",
       "      <td>0.003</td>\n",
       "      <td>0.0</td>\n",
       "      <td>0.0</td>\n",
       "      <td>17.0</td>\n",
       "      <td>2.1</td>\n",
       "      <td>0.0</td>\n",
       "      <td>...</td>\n",
       "      <td>68.0</td>\n",
       "      <td>198.0</td>\n",
       "      <td>6.0</td>\n",
       "      <td>1.0</td>\n",
       "      <td>141.0</td>\n",
       "      <td>136.0</td>\n",
       "      <td>140.0</td>\n",
       "      <td>12.0</td>\n",
       "      <td>0.0</td>\n",
       "      <td>1.0</td>\n",
       "    </tr>\n",
       "    <tr>\n",
       "      <th>2</th>\n",
       "      <td>133.0</td>\n",
       "      <td>0.003</td>\n",
       "      <td>0.000</td>\n",
       "      <td>0.008</td>\n",
       "      <td>0.003</td>\n",
       "      <td>0.0</td>\n",
       "      <td>0.0</td>\n",
       "      <td>16.0</td>\n",
       "      <td>2.1</td>\n",
       "      <td>0.0</td>\n",
       "      <td>...</td>\n",
       "      <td>68.0</td>\n",
       "      <td>198.0</td>\n",
       "      <td>5.0</td>\n",
       "      <td>1.0</td>\n",
       "      <td>141.0</td>\n",
       "      <td>135.0</td>\n",
       "      <td>138.0</td>\n",
       "      <td>13.0</td>\n",
       "      <td>0.0</td>\n",
       "      <td>1.0</td>\n",
       "    </tr>\n",
       "    <tr>\n",
       "      <th>3</th>\n",
       "      <td>134.0</td>\n",
       "      <td>0.003</td>\n",
       "      <td>0.000</td>\n",
       "      <td>0.008</td>\n",
       "      <td>0.003</td>\n",
       "      <td>0.0</td>\n",
       "      <td>0.0</td>\n",
       "      <td>16.0</td>\n",
       "      <td>2.4</td>\n",
       "      <td>0.0</td>\n",
       "      <td>...</td>\n",
       "      <td>53.0</td>\n",
       "      <td>170.0</td>\n",
       "      <td>11.0</td>\n",
       "      <td>0.0</td>\n",
       "      <td>137.0</td>\n",
       "      <td>134.0</td>\n",
       "      <td>137.0</td>\n",
       "      <td>13.0</td>\n",
       "      <td>1.0</td>\n",
       "      <td>1.0</td>\n",
       "    </tr>\n",
       "    <tr>\n",
       "      <th>4</th>\n",
       "      <td>132.0</td>\n",
       "      <td>0.007</td>\n",
       "      <td>0.000</td>\n",
       "      <td>0.008</td>\n",
       "      <td>0.000</td>\n",
       "      <td>0.0</td>\n",
       "      <td>0.0</td>\n",
       "      <td>16.0</td>\n",
       "      <td>2.4</td>\n",
       "      <td>0.0</td>\n",
       "      <td>...</td>\n",
       "      <td>53.0</td>\n",
       "      <td>170.0</td>\n",
       "      <td>9.0</td>\n",
       "      <td>0.0</td>\n",
       "      <td>137.0</td>\n",
       "      <td>136.0</td>\n",
       "      <td>138.0</td>\n",
       "      <td>11.0</td>\n",
       "      <td>1.0</td>\n",
       "      <td>1.0</td>\n",
       "    </tr>\n",
       "    <tr>\n",
       "      <th>...</th>\n",
       "      <td>...</td>\n",
       "      <td>...</td>\n",
       "      <td>...</td>\n",
       "      <td>...</td>\n",
       "      <td>...</td>\n",
       "      <td>...</td>\n",
       "      <td>...</td>\n",
       "      <td>...</td>\n",
       "      <td>...</td>\n",
       "      <td>...</td>\n",
       "      <td>...</td>\n",
       "      <td>...</td>\n",
       "      <td>...</td>\n",
       "      <td>...</td>\n",
       "      <td>...</td>\n",
       "      <td>...</td>\n",
       "      <td>...</td>\n",
       "      <td>...</td>\n",
       "      <td>...</td>\n",
       "      <td>...</td>\n",
       "      <td>...</td>\n",
       "    </tr>\n",
       "    <tr>\n",
       "      <th>2121</th>\n",
       "      <td>140.0</td>\n",
       "      <td>0.000</td>\n",
       "      <td>0.000</td>\n",
       "      <td>0.007</td>\n",
       "      <td>0.000</td>\n",
       "      <td>0.0</td>\n",
       "      <td>0.0</td>\n",
       "      <td>79.0</td>\n",
       "      <td>0.2</td>\n",
       "      <td>25.0</td>\n",
       "      <td>...</td>\n",
       "      <td>137.0</td>\n",
       "      <td>177.0</td>\n",
       "      <td>4.0</td>\n",
       "      <td>0.0</td>\n",
       "      <td>153.0</td>\n",
       "      <td>150.0</td>\n",
       "      <td>152.0</td>\n",
       "      <td>2.0</td>\n",
       "      <td>0.0</td>\n",
       "      <td>2.0</td>\n",
       "    </tr>\n",
       "    <tr>\n",
       "      <th>2122</th>\n",
       "      <td>140.0</td>\n",
       "      <td>0.001</td>\n",
       "      <td>0.000</td>\n",
       "      <td>0.007</td>\n",
       "      <td>0.000</td>\n",
       "      <td>0.0</td>\n",
       "      <td>0.0</td>\n",
       "      <td>78.0</td>\n",
       "      <td>0.4</td>\n",
       "      <td>22.0</td>\n",
       "      <td>...</td>\n",
       "      <td>103.0</td>\n",
       "      <td>169.0</td>\n",
       "      <td>6.0</td>\n",
       "      <td>0.0</td>\n",
       "      <td>152.0</td>\n",
       "      <td>148.0</td>\n",
       "      <td>151.0</td>\n",
       "      <td>3.0</td>\n",
       "      <td>1.0</td>\n",
       "      <td>2.0</td>\n",
       "    </tr>\n",
       "    <tr>\n",
       "      <th>2123</th>\n",
       "      <td>140.0</td>\n",
       "      <td>0.001</td>\n",
       "      <td>0.000</td>\n",
       "      <td>0.007</td>\n",
       "      <td>0.000</td>\n",
       "      <td>0.0</td>\n",
       "      <td>0.0</td>\n",
       "      <td>79.0</td>\n",
       "      <td>0.4</td>\n",
       "      <td>20.0</td>\n",
       "      <td>...</td>\n",
       "      <td>103.0</td>\n",
       "      <td>170.0</td>\n",
       "      <td>5.0</td>\n",
       "      <td>0.0</td>\n",
       "      <td>153.0</td>\n",
       "      <td>148.0</td>\n",
       "      <td>152.0</td>\n",
       "      <td>4.0</td>\n",
       "      <td>1.0</td>\n",
       "      <td>2.0</td>\n",
       "    </tr>\n",
       "    <tr>\n",
       "      <th>2124</th>\n",
       "      <td>140.0</td>\n",
       "      <td>0.001</td>\n",
       "      <td>0.000</td>\n",
       "      <td>0.006</td>\n",
       "      <td>0.000</td>\n",
       "      <td>0.0</td>\n",
       "      <td>0.0</td>\n",
       "      <td>78.0</td>\n",
       "      <td>0.4</td>\n",
       "      <td>27.0</td>\n",
       "      <td>...</td>\n",
       "      <td>103.0</td>\n",
       "      <td>169.0</td>\n",
       "      <td>6.0</td>\n",
       "      <td>0.0</td>\n",
       "      <td>152.0</td>\n",
       "      <td>147.0</td>\n",
       "      <td>151.0</td>\n",
       "      <td>4.0</td>\n",
       "      <td>1.0</td>\n",
       "      <td>2.0</td>\n",
       "    </tr>\n",
       "    <tr>\n",
       "      <th>2125</th>\n",
       "      <td>142.0</td>\n",
       "      <td>0.002</td>\n",
       "      <td>0.002</td>\n",
       "      <td>0.008</td>\n",
       "      <td>0.000</td>\n",
       "      <td>0.0</td>\n",
       "      <td>0.0</td>\n",
       "      <td>74.0</td>\n",
       "      <td>0.4</td>\n",
       "      <td>36.0</td>\n",
       "      <td>...</td>\n",
       "      <td>117.0</td>\n",
       "      <td>159.0</td>\n",
       "      <td>2.0</td>\n",
       "      <td>1.0</td>\n",
       "      <td>145.0</td>\n",
       "      <td>143.0</td>\n",
       "      <td>145.0</td>\n",
       "      <td>1.0</td>\n",
       "      <td>0.0</td>\n",
       "      <td>1.0</td>\n",
       "    </tr>\n",
       "  </tbody>\n",
       "</table>\n",
       "<p>2126 rows × 22 columns</p>\n",
       "</div>"
      ],
      "text/plain": [
       "      baseline value  accelerations  fetal_movement  uterine_contractions  \\\n",
       "0              120.0          0.000           0.000                 0.000   \n",
       "1              132.0          0.006           0.000                 0.006   \n",
       "2              133.0          0.003           0.000                 0.008   \n",
       "3              134.0          0.003           0.000                 0.008   \n",
       "4              132.0          0.007           0.000                 0.008   \n",
       "...              ...            ...             ...                   ...   \n",
       "2121           140.0          0.000           0.000                 0.007   \n",
       "2122           140.0          0.001           0.000                 0.007   \n",
       "2123           140.0          0.001           0.000                 0.007   \n",
       "2124           140.0          0.001           0.000                 0.006   \n",
       "2125           142.0          0.002           0.002                 0.008   \n",
       "\n",
       "      light_decelerations  severe_decelerations  prolongued_decelerations  \\\n",
       "0                   0.000                   0.0                       0.0   \n",
       "1                   0.003                   0.0                       0.0   \n",
       "2                   0.003                   0.0                       0.0   \n",
       "3                   0.003                   0.0                       0.0   \n",
       "4                   0.000                   0.0                       0.0   \n",
       "...                   ...                   ...                       ...   \n",
       "2121                0.000                   0.0                       0.0   \n",
       "2122                0.000                   0.0                       0.0   \n",
       "2123                0.000                   0.0                       0.0   \n",
       "2124                0.000                   0.0                       0.0   \n",
       "2125                0.000                   0.0                       0.0   \n",
       "\n",
       "      abnormal_short_term_variability  mean_value_of_short_term_variability  \\\n",
       "0                                73.0                                   0.5   \n",
       "1                                17.0                                   2.1   \n",
       "2                                16.0                                   2.1   \n",
       "3                                16.0                                   2.4   \n",
       "4                                16.0                                   2.4   \n",
       "...                               ...                                   ...   \n",
       "2121                             79.0                                   0.2   \n",
       "2122                             78.0                                   0.4   \n",
       "2123                             79.0                                   0.4   \n",
       "2124                             78.0                                   0.4   \n",
       "2125                             74.0                                   0.4   \n",
       "\n",
       "      percentage_of_time_with_abnormal_long_term_variability  ...  \\\n",
       "0                                                  43.0       ...   \n",
       "1                                                   0.0       ...   \n",
       "2                                                   0.0       ...   \n",
       "3                                                   0.0       ...   \n",
       "4                                                   0.0       ...   \n",
       "...                                                 ...       ...   \n",
       "2121                                               25.0       ...   \n",
       "2122                                               22.0       ...   \n",
       "2123                                               20.0       ...   \n",
       "2124                                               27.0       ...   \n",
       "2125                                               36.0       ...   \n",
       "\n",
       "      histogram_min  histogram_max  histogram_number_of_peaks  \\\n",
       "0              62.0          126.0                        2.0   \n",
       "1              68.0          198.0                        6.0   \n",
       "2              68.0          198.0                        5.0   \n",
       "3              53.0          170.0                       11.0   \n",
       "4              53.0          170.0                        9.0   \n",
       "...             ...            ...                        ...   \n",
       "2121          137.0          177.0                        4.0   \n",
       "2122          103.0          169.0                        6.0   \n",
       "2123          103.0          170.0                        5.0   \n",
       "2124          103.0          169.0                        6.0   \n",
       "2125          117.0          159.0                        2.0   \n",
       "\n",
       "      histogram_number_of_zeroes  histogram_mode  histogram_mean  \\\n",
       "0                            0.0           120.0           137.0   \n",
       "1                            1.0           141.0           136.0   \n",
       "2                            1.0           141.0           135.0   \n",
       "3                            0.0           137.0           134.0   \n",
       "4                            0.0           137.0           136.0   \n",
       "...                          ...             ...             ...   \n",
       "2121                         0.0           153.0           150.0   \n",
       "2122                         0.0           152.0           148.0   \n",
       "2123                         0.0           153.0           148.0   \n",
       "2124                         0.0           152.0           147.0   \n",
       "2125                         1.0           145.0           143.0   \n",
       "\n",
       "      histogram_median  histogram_variance  histogram_tendency  fetal_health  \n",
       "0                121.0                73.0                 1.0           2.0  \n",
       "1                140.0                12.0                 0.0           1.0  \n",
       "2                138.0                13.0                 0.0           1.0  \n",
       "3                137.0                13.0                 1.0           1.0  \n",
       "4                138.0                11.0                 1.0           1.0  \n",
       "...                ...                 ...                 ...           ...  \n",
       "2121             152.0                 2.0                 0.0           2.0  \n",
       "2122             151.0                 3.0                 1.0           2.0  \n",
       "2123             152.0                 4.0                 1.0           2.0  \n",
       "2124             151.0                 4.0                 1.0           2.0  \n",
       "2125             145.0                 1.0                 0.0           1.0  \n",
       "\n",
       "[2126 rows x 22 columns]"
      ]
     },
     "execution_count": 3,
     "metadata": {},
     "output_type": "execute_result"
    }
   ],
   "source": [
    "df"
   ]
  },
  {
   "cell_type": "code",
   "execution_count": 4,
   "id": "310dfa2d-d331-4707-9254-6cc7988deb9a",
   "metadata": {},
   "outputs": [
    {
     "data": {
      "text/plain": [
       "0       2\n",
       "1       1\n",
       "2       1\n",
       "3       1\n",
       "4       1\n",
       "       ..\n",
       "2121    2\n",
       "2122    2\n",
       "2123    2\n",
       "2124    2\n",
       "2125    1\n",
       "Name: fetal_health, Length: 2126, dtype: int64"
      ]
     },
     "metadata": {},
     "output_type": "display_data"
    },
    {
     "name": "stdout",
     "output_type": "stream",
     "text": [
      "--------------------------------------------------\n"
     ]
    },
    {
     "data": {
      "text/plain": [
       "fetal_health\n",
       "1    1655\n",
       "2     295\n",
       "3     176\n",
       "Name: count, dtype: int64"
      ]
     },
     "metadata": {},
     "output_type": "display_data"
    }
   ],
   "source": [
    "df['fetal_health'] = df['fetal_health'].astype(int)\n",
    "display(df.fetal_health)\n",
    "print(50 * \"-\")\n",
    "display(df.fetal_health.value_counts())"
   ]
  },
  {
   "cell_type": "code",
   "execution_count": 5,
   "id": "240550b4-a4a6-4993-9f60-71db926cc9b4",
   "metadata": {},
   "outputs": [],
   "source": [
    "df_train_full, df_test = train_test_split(df, test_size=0.2, random_state=1) #stratify=df['fetal_health'] does not work and makes the result even worse\n",
    "df_train, df_val = train_test_split(df_train_full, test_size=0.25, random_state=1) \n",
    "\n",
    "df_train = df_train.reset_index(drop=True)\n",
    "df_val = df_val.reset_index(drop=True)\n",
    "df_test = df_test.reset_index(drop=True)\n",
    "\n",
    "y_train = df_train.fetal_health.values\n",
    "y_val = df_val.fetal_health.values\n",
    "y_test = df_test.fetal_health.values\n",
    "\n",
    "del df_train['fetal_health']\n",
    "del df_val['fetal_health']\n",
    "del df_test['fetal_health']"
   ]
  },
  {
   "cell_type": "code",
   "execution_count": 6,
   "id": "1523ffd4-da6c-48e6-8017-6327619b1190",
   "metadata": {},
   "outputs": [
    {
     "data": {
      "text/plain": [
       "(1275, 425, 426)"
      ]
     },
     "execution_count": 6,
     "metadata": {},
     "output_type": "execute_result"
    }
   ],
   "source": [
    "len(df_train), len(df_val), len(df_test)"
   ]
  },
  {
   "cell_type": "code",
   "execution_count": 7,
   "id": "eb054634-4abf-4c1b-8abf-8603f1b632d5",
   "metadata": {},
   "outputs": [
    {
     "name": "stdout",
     "output_type": "stream",
     "text": [
      "Shape of y_train: (1275,)\n",
      "Shape of y_val: (425,)\n"
     ]
    }
   ],
   "source": [
    "print('Shape of y_train:', y_train.shape)\n",
    "print('Shape of y_val:', y_val.shape)"
   ]
  },
  {
   "cell_type": "code",
   "execution_count": 8,
   "id": "e37c4736-5c79-4045-9d88-c742123b5a14",
   "metadata": {},
   "outputs": [
    {
     "data": {
      "text/plain": [
       "array([1, 1, 1, ..., 1, 1, 1])"
      ]
     },
     "execution_count": 8,
     "metadata": {},
     "output_type": "execute_result"
    }
   ],
   "source": [
    "y_train"
   ]
  },
  {
   "cell_type": "code",
   "execution_count": 9,
   "id": "00960224-a7f5-4771-bc53-9bbdfd321d41",
   "metadata": {},
   "outputs": [
    {
     "name": "stdout",
     "output_type": "stream",
     "text": [
      "<class 'pandas.core.frame.DataFrame'>\n",
      "RangeIndex: 1275 entries, 0 to 1274\n",
      "Data columns (total 21 columns):\n",
      " #   Column                                                  Non-Null Count  Dtype  \n",
      "---  ------                                                  --------------  -----  \n",
      " 0   baseline value                                          1275 non-null   float64\n",
      " 1   accelerations                                           1275 non-null   float64\n",
      " 2   fetal_movement                                          1275 non-null   float64\n",
      " 3   uterine_contractions                                    1275 non-null   float64\n",
      " 4   light_decelerations                                     1275 non-null   float64\n",
      " 5   severe_decelerations                                    1275 non-null   float64\n",
      " 6   prolongued_decelerations                                1275 non-null   float64\n",
      " 7   abnormal_short_term_variability                         1275 non-null   float64\n",
      " 8   mean_value_of_short_term_variability                    1275 non-null   float64\n",
      " 9   percentage_of_time_with_abnormal_long_term_variability  1275 non-null   float64\n",
      " 10  mean_value_of_long_term_variability                     1275 non-null   float64\n",
      " 11  histogram_width                                         1275 non-null   float64\n",
      " 12  histogram_min                                           1275 non-null   float64\n",
      " 13  histogram_max                                           1275 non-null   float64\n",
      " 14  histogram_number_of_peaks                               1275 non-null   float64\n",
      " 15  histogram_number_of_zeroes                              1275 non-null   float64\n",
      " 16  histogram_mode                                          1275 non-null   float64\n",
      " 17  histogram_mean                                          1275 non-null   float64\n",
      " 18  histogram_median                                        1275 non-null   float64\n",
      " 19  histogram_variance                                      1275 non-null   float64\n",
      " 20  histogram_tendency                                      1275 non-null   float64\n",
      "dtypes: float64(21)\n",
      "memory usage: 209.3 KB\n"
     ]
    }
   ],
   "source": [
    "df_train.info()"
   ]
  },
  {
   "cell_type": "code",
   "execution_count": 10,
   "id": "d9b48253-52e9-4c77-89f7-dd9654ba26da",
   "metadata": {},
   "outputs": [
    {
     "data": {
      "text/plain": [
       "{'baseline value': 125.0,\n",
       " 'accelerations': 0.0,\n",
       " 'fetal_movement': 0.0,\n",
       " 'uterine_contractions': 0.004,\n",
       " 'light_decelerations': 0.0,\n",
       " 'severe_decelerations': 0.0,\n",
       " 'prolongued_decelerations': 0.0,\n",
       " 'abnormal_short_term_variability': 38.0,\n",
       " 'mean_value_of_short_term_variability': 0.8,\n",
       " 'percentage_of_time_with_abnormal_long_term_variability': 11.0,\n",
       " 'mean_value_of_long_term_variability': 9.0,\n",
       " 'histogram_width': 35.0,\n",
       " 'histogram_min': 103.0,\n",
       " 'histogram_max': 138.0,\n",
       " 'histogram_number_of_peaks': 2.0,\n",
       " 'histogram_number_of_zeroes': 0.0,\n",
       " 'histogram_mode': 131.0,\n",
       " 'histogram_mean': 129.0,\n",
       " 'histogram_median': 131.0,\n",
       " 'histogram_variance': 1.0,\n",
       " 'histogram_tendency': 1.0}"
      ]
     },
     "execution_count": 10,
     "metadata": {},
     "output_type": "execute_result"
    }
   ],
   "source": [
    "train_dict = df_train.to_dict(orient='records')\n",
    "train_dict[0]"
   ]
  },
  {
   "cell_type": "markdown",
   "id": "2513edcb-1ff4-4b40-b66b-16aae96a8dae",
   "metadata": {},
   "source": [
    "**The dataset is all numerical, no need for encoding ie. Dict Vectorizer or Label Encoder**"
   ]
  },
  {
   "cell_type": "code",
   "execution_count": 11,
   "id": "eda33b5a-6fbe-4b1c-b2c5-331e62aba03e",
   "metadata": {},
   "outputs": [
    {
     "data": {
      "text/plain": [
       "baseline value                                            0\n",
       "accelerations                                             0\n",
       "fetal_movement                                            0\n",
       "uterine_contractions                                      0\n",
       "light_decelerations                                       0\n",
       "severe_decelerations                                      0\n",
       "prolongued_decelerations                                  0\n",
       "abnormal_short_term_variability                           0\n",
       "mean_value_of_short_term_variability                      0\n",
       "percentage_of_time_with_abnormal_long_term_variability    0\n",
       "mean_value_of_long_term_variability                       0\n",
       "histogram_width                                           0\n",
       "histogram_min                                             0\n",
       "histogram_max                                             0\n",
       "histogram_number_of_peaks                                 0\n",
       "histogram_number_of_zeroes                                0\n",
       "histogram_mode                                            0\n",
       "histogram_mean                                            0\n",
       "histogram_median                                          0\n",
       "histogram_variance                                        0\n",
       "histogram_tendency                                        0\n",
       "dtype: int64"
      ]
     },
     "execution_count": 11,
     "metadata": {},
     "output_type": "execute_result"
    }
   ],
   "source": [
    "df_train.isna().sum()"
   ]
  },
  {
   "cell_type": "code",
   "execution_count": 12,
   "id": "6baf1a53-1474-4c8b-b1d5-3323dbb51ab9",
   "metadata": {},
   "outputs": [],
   "source": [
    "X_train = df_train\n",
    "X_val = df_val\n",
    "X_test = df_test"
   ]
  },
  {
   "cell_type": "markdown",
   "id": "623f90a9-dc82-465d-b3d1-778325a207f2",
   "metadata": {},
   "source": [
    "**The dataset is imbalanced so we will have to adjust the weight so as not to give favor to the dominating value**"
   ]
  },
  {
   "cell_type": "code",
   "execution_count": 13,
   "id": "ae4d1689-38f7-46c0-91b5-887b54094390",
   "metadata": {},
   "outputs": [
    {
     "name": "stdout",
     "output_type": "stream",
     "text": [
      "1    78.431373\n",
      "2    13.254902\n",
      "3     8.313725\n",
      "Name: proportion, dtype: float64\n"
     ]
    }
   ],
   "source": [
    "y_train_distribution = pd.Series(y_train).value_counts(normalize=True) * 100\n",
    "print(y_train_distribution)"
   ]
  },
  {
   "cell_type": "code",
   "execution_count": 14,
   "id": "7e9907fe-9d1d-40cc-a0bd-27a866d7ed02",
   "metadata": {},
   "outputs": [
    {
     "name": "stdout",
     "output_type": "stream",
     "text": [
      "1    77.411765\n",
      "2    13.647059\n",
      "3     8.941176\n",
      "Name: proportion, dtype: float64\n"
     ]
    }
   ],
   "source": [
    "y_val_distribution = pd.Series(y_val).value_counts(normalize=True) * 100\n",
    "print(y_val_distribution)"
   ]
  },
  {
   "cell_type": "code",
   "execution_count": 15,
   "id": "fddb18a0-9cea-4131-bbae-1b7cd2083b65",
   "metadata": {},
   "outputs": [
    {
     "name": "stdout",
     "output_type": "stream",
     "text": [
      "1    76.525822\n",
      "2    15.962441\n",
      "3     7.511737\n",
      "Name: proportion, dtype: float64\n"
     ]
    }
   ],
   "source": [
    "y_test_distribution = pd.Series(y_test).value_counts(normalize=True) * 100\n",
    "print(y_test_distribution)"
   ]
  },
  {
   "cell_type": "markdown",
   "id": "7e3d12aa-02a9-4b8b-9dc4-e8b8414b4914",
   "metadata": {},
   "source": [
    "## Decision Tree"
   ]
  },
  {
   "cell_type": "markdown",
   "id": "84fe4054-b2f1-484d-880d-2acdd4b163ff",
   "metadata": {},
   "source": [
    "**Creating a Decision Tree Model - with a balanced flag as the data is imbalanced(some values appear more often than others)**"
   ]
  },
  {
   "cell_type": "code",
   "execution_count": 16,
   "id": "6cf462f5-db13-40c2-b2fa-7ba335a4687a",
   "metadata": {},
   "outputs": [
    {
     "data": {
      "text/html": [
       "<style>#sk-container-id-1 {\n",
       "  /* Definition of color scheme common for light and dark mode */\n",
       "  --sklearn-color-text: black;\n",
       "  --sklearn-color-line: gray;\n",
       "  /* Definition of color scheme for unfitted estimators */\n",
       "  --sklearn-color-unfitted-level-0: #fff5e6;\n",
       "  --sklearn-color-unfitted-level-1: #f6e4d2;\n",
       "  --sklearn-color-unfitted-level-2: #ffe0b3;\n",
       "  --sklearn-color-unfitted-level-3: chocolate;\n",
       "  /* Definition of color scheme for fitted estimators */\n",
       "  --sklearn-color-fitted-level-0: #f0f8ff;\n",
       "  --sklearn-color-fitted-level-1: #d4ebff;\n",
       "  --sklearn-color-fitted-level-2: #b3dbfd;\n",
       "  --sklearn-color-fitted-level-3: cornflowerblue;\n",
       "\n",
       "  /* Specific color for light theme */\n",
       "  --sklearn-color-text-on-default-background: var(--sg-text-color, var(--theme-code-foreground, var(--jp-content-font-color1, black)));\n",
       "  --sklearn-color-background: var(--sg-background-color, var(--theme-background, var(--jp-layout-color0, white)));\n",
       "  --sklearn-color-border-box: var(--sg-text-color, var(--theme-code-foreground, var(--jp-content-font-color1, black)));\n",
       "  --sklearn-color-icon: #696969;\n",
       "\n",
       "  @media (prefers-color-scheme: dark) {\n",
       "    /* Redefinition of color scheme for dark theme */\n",
       "    --sklearn-color-text-on-default-background: var(--sg-text-color, var(--theme-code-foreground, var(--jp-content-font-color1, white)));\n",
       "    --sklearn-color-background: var(--sg-background-color, var(--theme-background, var(--jp-layout-color0, #111)));\n",
       "    --sklearn-color-border-box: var(--sg-text-color, var(--theme-code-foreground, var(--jp-content-font-color1, white)));\n",
       "    --sklearn-color-icon: #878787;\n",
       "  }\n",
       "}\n",
       "\n",
       "#sk-container-id-1 {\n",
       "  color: var(--sklearn-color-text);\n",
       "}\n",
       "\n",
       "#sk-container-id-1 pre {\n",
       "  padding: 0;\n",
       "}\n",
       "\n",
       "#sk-container-id-1 input.sk-hidden--visually {\n",
       "  border: 0;\n",
       "  clip: rect(1px 1px 1px 1px);\n",
       "  clip: rect(1px, 1px, 1px, 1px);\n",
       "  height: 1px;\n",
       "  margin: -1px;\n",
       "  overflow: hidden;\n",
       "  padding: 0;\n",
       "  position: absolute;\n",
       "  width: 1px;\n",
       "}\n",
       "\n",
       "#sk-container-id-1 div.sk-dashed-wrapped {\n",
       "  border: 1px dashed var(--sklearn-color-line);\n",
       "  margin: 0 0.4em 0.5em 0.4em;\n",
       "  box-sizing: border-box;\n",
       "  padding-bottom: 0.4em;\n",
       "  background-color: var(--sklearn-color-background);\n",
       "}\n",
       "\n",
       "#sk-container-id-1 div.sk-container {\n",
       "  /* jupyter's `normalize.less` sets `[hidden] { display: none; }`\n",
       "     but bootstrap.min.css set `[hidden] { display: none !important; }`\n",
       "     so we also need the `!important` here to be able to override the\n",
       "     default hidden behavior on the sphinx rendered scikit-learn.org.\n",
       "     See: https://github.com/scikit-learn/scikit-learn/issues/21755 */\n",
       "  display: inline-block !important;\n",
       "  position: relative;\n",
       "}\n",
       "\n",
       "#sk-container-id-1 div.sk-text-repr-fallback {\n",
       "  display: none;\n",
       "}\n",
       "\n",
       "div.sk-parallel-item,\n",
       "div.sk-serial,\n",
       "div.sk-item {\n",
       "  /* draw centered vertical line to link estimators */\n",
       "  background-image: linear-gradient(var(--sklearn-color-text-on-default-background), var(--sklearn-color-text-on-default-background));\n",
       "  background-size: 2px 100%;\n",
       "  background-repeat: no-repeat;\n",
       "  background-position: center center;\n",
       "}\n",
       "\n",
       "/* Parallel-specific style estimator block */\n",
       "\n",
       "#sk-container-id-1 div.sk-parallel-item::after {\n",
       "  content: \"\";\n",
       "  width: 100%;\n",
       "  border-bottom: 2px solid var(--sklearn-color-text-on-default-background);\n",
       "  flex-grow: 1;\n",
       "}\n",
       "\n",
       "#sk-container-id-1 div.sk-parallel {\n",
       "  display: flex;\n",
       "  align-items: stretch;\n",
       "  justify-content: center;\n",
       "  background-color: var(--sklearn-color-background);\n",
       "  position: relative;\n",
       "}\n",
       "\n",
       "#sk-container-id-1 div.sk-parallel-item {\n",
       "  display: flex;\n",
       "  flex-direction: column;\n",
       "}\n",
       "\n",
       "#sk-container-id-1 div.sk-parallel-item:first-child::after {\n",
       "  align-self: flex-end;\n",
       "  width: 50%;\n",
       "}\n",
       "\n",
       "#sk-container-id-1 div.sk-parallel-item:last-child::after {\n",
       "  align-self: flex-start;\n",
       "  width: 50%;\n",
       "}\n",
       "\n",
       "#sk-container-id-1 div.sk-parallel-item:only-child::after {\n",
       "  width: 0;\n",
       "}\n",
       "\n",
       "/* Serial-specific style estimator block */\n",
       "\n",
       "#sk-container-id-1 div.sk-serial {\n",
       "  display: flex;\n",
       "  flex-direction: column;\n",
       "  align-items: center;\n",
       "  background-color: var(--sklearn-color-background);\n",
       "  padding-right: 1em;\n",
       "  padding-left: 1em;\n",
       "}\n",
       "\n",
       "\n",
       "/* Toggleable style: style used for estimator/Pipeline/ColumnTransformer box that is\n",
       "clickable and can be expanded/collapsed.\n",
       "- Pipeline and ColumnTransformer use this feature and define the default style\n",
       "- Estimators will overwrite some part of the style using the `sk-estimator` class\n",
       "*/\n",
       "\n",
       "/* Pipeline and ColumnTransformer style (default) */\n",
       "\n",
       "#sk-container-id-1 div.sk-toggleable {\n",
       "  /* Default theme specific background. It is overwritten whether we have a\n",
       "  specific estimator or a Pipeline/ColumnTransformer */\n",
       "  background-color: var(--sklearn-color-background);\n",
       "}\n",
       "\n",
       "/* Toggleable label */\n",
       "#sk-container-id-1 label.sk-toggleable__label {\n",
       "  cursor: pointer;\n",
       "  display: block;\n",
       "  width: 100%;\n",
       "  margin-bottom: 0;\n",
       "  padding: 0.5em;\n",
       "  box-sizing: border-box;\n",
       "  text-align: center;\n",
       "}\n",
       "\n",
       "#sk-container-id-1 label.sk-toggleable__label-arrow:before {\n",
       "  /* Arrow on the left of the label */\n",
       "  content: \"▸\";\n",
       "  float: left;\n",
       "  margin-right: 0.25em;\n",
       "  color: var(--sklearn-color-icon);\n",
       "}\n",
       "\n",
       "#sk-container-id-1 label.sk-toggleable__label-arrow:hover:before {\n",
       "  color: var(--sklearn-color-text);\n",
       "}\n",
       "\n",
       "/* Toggleable content - dropdown */\n",
       "\n",
       "#sk-container-id-1 div.sk-toggleable__content {\n",
       "  max-height: 0;\n",
       "  max-width: 0;\n",
       "  overflow: hidden;\n",
       "  text-align: left;\n",
       "  /* unfitted */\n",
       "  background-color: var(--sklearn-color-unfitted-level-0);\n",
       "}\n",
       "\n",
       "#sk-container-id-1 div.sk-toggleable__content.fitted {\n",
       "  /* fitted */\n",
       "  background-color: var(--sklearn-color-fitted-level-0);\n",
       "}\n",
       "\n",
       "#sk-container-id-1 div.sk-toggleable__content pre {\n",
       "  margin: 0.2em;\n",
       "  border-radius: 0.25em;\n",
       "  color: var(--sklearn-color-text);\n",
       "  /* unfitted */\n",
       "  background-color: var(--sklearn-color-unfitted-level-0);\n",
       "}\n",
       "\n",
       "#sk-container-id-1 div.sk-toggleable__content.fitted pre {\n",
       "  /* unfitted */\n",
       "  background-color: var(--sklearn-color-fitted-level-0);\n",
       "}\n",
       "\n",
       "#sk-container-id-1 input.sk-toggleable__control:checked~div.sk-toggleable__content {\n",
       "  /* Expand drop-down */\n",
       "  max-height: 200px;\n",
       "  max-width: 100%;\n",
       "  overflow: auto;\n",
       "}\n",
       "\n",
       "#sk-container-id-1 input.sk-toggleable__control:checked~label.sk-toggleable__label-arrow:before {\n",
       "  content: \"▾\";\n",
       "}\n",
       "\n",
       "/* Pipeline/ColumnTransformer-specific style */\n",
       "\n",
       "#sk-container-id-1 div.sk-label input.sk-toggleable__control:checked~label.sk-toggleable__label {\n",
       "  color: var(--sklearn-color-text);\n",
       "  background-color: var(--sklearn-color-unfitted-level-2);\n",
       "}\n",
       "\n",
       "#sk-container-id-1 div.sk-label.fitted input.sk-toggleable__control:checked~label.sk-toggleable__label {\n",
       "  background-color: var(--sklearn-color-fitted-level-2);\n",
       "}\n",
       "\n",
       "/* Estimator-specific style */\n",
       "\n",
       "/* Colorize estimator box */\n",
       "#sk-container-id-1 div.sk-estimator input.sk-toggleable__control:checked~label.sk-toggleable__label {\n",
       "  /* unfitted */\n",
       "  background-color: var(--sklearn-color-unfitted-level-2);\n",
       "}\n",
       "\n",
       "#sk-container-id-1 div.sk-estimator.fitted input.sk-toggleable__control:checked~label.sk-toggleable__label {\n",
       "  /* fitted */\n",
       "  background-color: var(--sklearn-color-fitted-level-2);\n",
       "}\n",
       "\n",
       "#sk-container-id-1 div.sk-label label.sk-toggleable__label,\n",
       "#sk-container-id-1 div.sk-label label {\n",
       "  /* The background is the default theme color */\n",
       "  color: var(--sklearn-color-text-on-default-background);\n",
       "}\n",
       "\n",
       "/* On hover, darken the color of the background */\n",
       "#sk-container-id-1 div.sk-label:hover label.sk-toggleable__label {\n",
       "  color: var(--sklearn-color-text);\n",
       "  background-color: var(--sklearn-color-unfitted-level-2);\n",
       "}\n",
       "\n",
       "/* Label box, darken color on hover, fitted */\n",
       "#sk-container-id-1 div.sk-label.fitted:hover label.sk-toggleable__label.fitted {\n",
       "  color: var(--sklearn-color-text);\n",
       "  background-color: var(--sklearn-color-fitted-level-2);\n",
       "}\n",
       "\n",
       "/* Estimator label */\n",
       "\n",
       "#sk-container-id-1 div.sk-label label {\n",
       "  font-family: monospace;\n",
       "  font-weight: bold;\n",
       "  display: inline-block;\n",
       "  line-height: 1.2em;\n",
       "}\n",
       "\n",
       "#sk-container-id-1 div.sk-label-container {\n",
       "  text-align: center;\n",
       "}\n",
       "\n",
       "/* Estimator-specific */\n",
       "#sk-container-id-1 div.sk-estimator {\n",
       "  font-family: monospace;\n",
       "  border: 1px dotted var(--sklearn-color-border-box);\n",
       "  border-radius: 0.25em;\n",
       "  box-sizing: border-box;\n",
       "  margin-bottom: 0.5em;\n",
       "  /* unfitted */\n",
       "  background-color: var(--sklearn-color-unfitted-level-0);\n",
       "}\n",
       "\n",
       "#sk-container-id-1 div.sk-estimator.fitted {\n",
       "  /* fitted */\n",
       "  background-color: var(--sklearn-color-fitted-level-0);\n",
       "}\n",
       "\n",
       "/* on hover */\n",
       "#sk-container-id-1 div.sk-estimator:hover {\n",
       "  /* unfitted */\n",
       "  background-color: var(--sklearn-color-unfitted-level-2);\n",
       "}\n",
       "\n",
       "#sk-container-id-1 div.sk-estimator.fitted:hover {\n",
       "  /* fitted */\n",
       "  background-color: var(--sklearn-color-fitted-level-2);\n",
       "}\n",
       "\n",
       "/* Specification for estimator info (e.g. \"i\" and \"?\") */\n",
       "\n",
       "/* Common style for \"i\" and \"?\" */\n",
       "\n",
       ".sk-estimator-doc-link,\n",
       "a:link.sk-estimator-doc-link,\n",
       "a:visited.sk-estimator-doc-link {\n",
       "  float: right;\n",
       "  font-size: smaller;\n",
       "  line-height: 1em;\n",
       "  font-family: monospace;\n",
       "  background-color: var(--sklearn-color-background);\n",
       "  border-radius: 1em;\n",
       "  height: 1em;\n",
       "  width: 1em;\n",
       "  text-decoration: none !important;\n",
       "  margin-left: 1ex;\n",
       "  /* unfitted */\n",
       "  border: var(--sklearn-color-unfitted-level-1) 1pt solid;\n",
       "  color: var(--sklearn-color-unfitted-level-1);\n",
       "}\n",
       "\n",
       ".sk-estimator-doc-link.fitted,\n",
       "a:link.sk-estimator-doc-link.fitted,\n",
       "a:visited.sk-estimator-doc-link.fitted {\n",
       "  /* fitted */\n",
       "  border: var(--sklearn-color-fitted-level-1) 1pt solid;\n",
       "  color: var(--sklearn-color-fitted-level-1);\n",
       "}\n",
       "\n",
       "/* On hover */\n",
       "div.sk-estimator:hover .sk-estimator-doc-link:hover,\n",
       ".sk-estimator-doc-link:hover,\n",
       "div.sk-label-container:hover .sk-estimator-doc-link:hover,\n",
       ".sk-estimator-doc-link:hover {\n",
       "  /* unfitted */\n",
       "  background-color: var(--sklearn-color-unfitted-level-3);\n",
       "  color: var(--sklearn-color-background);\n",
       "  text-decoration: none;\n",
       "}\n",
       "\n",
       "div.sk-estimator.fitted:hover .sk-estimator-doc-link.fitted:hover,\n",
       ".sk-estimator-doc-link.fitted:hover,\n",
       "div.sk-label-container:hover .sk-estimator-doc-link.fitted:hover,\n",
       ".sk-estimator-doc-link.fitted:hover {\n",
       "  /* fitted */\n",
       "  background-color: var(--sklearn-color-fitted-level-3);\n",
       "  color: var(--sklearn-color-background);\n",
       "  text-decoration: none;\n",
       "}\n",
       "\n",
       "/* Span, style for the box shown on hovering the info icon */\n",
       ".sk-estimator-doc-link span {\n",
       "  display: none;\n",
       "  z-index: 9999;\n",
       "  position: relative;\n",
       "  font-weight: normal;\n",
       "  right: .2ex;\n",
       "  padding: .5ex;\n",
       "  margin: .5ex;\n",
       "  width: min-content;\n",
       "  min-width: 20ex;\n",
       "  max-width: 50ex;\n",
       "  color: var(--sklearn-color-text);\n",
       "  box-shadow: 2pt 2pt 4pt #999;\n",
       "  /* unfitted */\n",
       "  background: var(--sklearn-color-unfitted-level-0);\n",
       "  border: .5pt solid var(--sklearn-color-unfitted-level-3);\n",
       "}\n",
       "\n",
       ".sk-estimator-doc-link.fitted span {\n",
       "  /* fitted */\n",
       "  background: var(--sklearn-color-fitted-level-0);\n",
       "  border: var(--sklearn-color-fitted-level-3);\n",
       "}\n",
       "\n",
       ".sk-estimator-doc-link:hover span {\n",
       "  display: block;\n",
       "}\n",
       "\n",
       "/* \"?\"-specific style due to the `<a>` HTML tag */\n",
       "\n",
       "#sk-container-id-1 a.estimator_doc_link {\n",
       "  float: right;\n",
       "  font-size: 1rem;\n",
       "  line-height: 1em;\n",
       "  font-family: monospace;\n",
       "  background-color: var(--sklearn-color-background);\n",
       "  border-radius: 1rem;\n",
       "  height: 1rem;\n",
       "  width: 1rem;\n",
       "  text-decoration: none;\n",
       "  /* unfitted */\n",
       "  color: var(--sklearn-color-unfitted-level-1);\n",
       "  border: var(--sklearn-color-unfitted-level-1) 1pt solid;\n",
       "}\n",
       "\n",
       "#sk-container-id-1 a.estimator_doc_link.fitted {\n",
       "  /* fitted */\n",
       "  border: var(--sklearn-color-fitted-level-1) 1pt solid;\n",
       "  color: var(--sklearn-color-fitted-level-1);\n",
       "}\n",
       "\n",
       "/* On hover */\n",
       "#sk-container-id-1 a.estimator_doc_link:hover {\n",
       "  /* unfitted */\n",
       "  background-color: var(--sklearn-color-unfitted-level-3);\n",
       "  color: var(--sklearn-color-background);\n",
       "  text-decoration: none;\n",
       "}\n",
       "\n",
       "#sk-container-id-1 a.estimator_doc_link.fitted:hover {\n",
       "  /* fitted */\n",
       "  background-color: var(--sklearn-color-fitted-level-3);\n",
       "}\n",
       "</style><div id=\"sk-container-id-1\" class=\"sk-top-container\"><div class=\"sk-text-repr-fallback\"><pre>DecisionTreeClassifier(class_weight=&#x27;balanced&#x27;)</pre><b>In a Jupyter environment, please rerun this cell to show the HTML representation or trust the notebook. <br />On GitHub, the HTML representation is unable to render, please try loading this page with nbviewer.org.</b></div><div class=\"sk-container\" hidden><div class=\"sk-item\"><div class=\"sk-estimator fitted sk-toggleable\"><input class=\"sk-toggleable__control sk-hidden--visually\" id=\"sk-estimator-id-1\" type=\"checkbox\" checked><label for=\"sk-estimator-id-1\" class=\"sk-toggleable__label fitted sk-toggleable__label-arrow fitted\">&nbsp;&nbsp;DecisionTreeClassifier<a class=\"sk-estimator-doc-link fitted\" rel=\"noreferrer\" target=\"_blank\" href=\"https://scikit-learn.org/1.5/modules/generated/sklearn.tree.DecisionTreeClassifier.html\">?<span>Documentation for DecisionTreeClassifier</span></a><span class=\"sk-estimator-doc-link fitted\">i<span>Fitted</span></span></label><div class=\"sk-toggleable__content fitted\"><pre>DecisionTreeClassifier(class_weight=&#x27;balanced&#x27;)</pre></div> </div></div></div></div>"
      ],
      "text/plain": [
       "DecisionTreeClassifier(class_weight='balanced')"
      ]
     },
     "execution_count": 16,
     "metadata": {},
     "output_type": "execute_result"
    }
   ],
   "source": [
    "dt = DecisionTreeClassifier(class_weight='balanced')\n",
    "dt.fit(X_train, y_train)"
   ]
  },
  {
   "cell_type": "markdown",
   "id": "e1b6ada9-d742-432d-9965-2f6fbfc9aed2",
   "metadata": {},
   "source": [
    "**For training data it overfits. We will need to do some parameter tuning to find a good balance**"
   ]
  },
  {
   "cell_type": "code",
   "execution_count": 17,
   "id": "fbace03c-b5e1-4a23-9d9f-6183e3022936",
   "metadata": {},
   "outputs": [
    {
     "name": "stdout",
     "output_type": "stream",
     "text": [
      "Training ROC AUC: 1.000\n",
      "Validation ROC AUC: 0.874\n",
      "Test ROC AUC: 0.862\n"
     ]
    }
   ],
   "source": [
    "y_pred_train = dt.predict_proba(X_train)\n",
    "y_pred_val = dt.predict_proba(X_val)\n",
    "y_pred_test = dt.predict_proba(X_test)\n",
    "\n",
    "# Calculate ROC AUC scores\n",
    "roc_auc_train = roc_auc_score(y_train, y_pred_train, multi_class='ovr')  # Training score\n",
    "roc_auc_val = roc_auc_score(y_val, y_pred_val, multi_class='ovr')        # Validation score\n",
    "roc_auc_test = roc_auc_score(y_test, y_pred_test, multi_class='ovr')     # Test score\n",
    "\n",
    "print(f\"Training ROC AUC: {roc_auc_train:.3f}\")\n",
    "print(f\"Validation ROC AUC: {roc_auc_val:.3f}\")\n",
    "print(f\"Test ROC AUC: {roc_auc_test:.3f}\")"
   ]
  },
  {
   "cell_type": "markdown",
   "id": "dfc0c2a9-d374-455a-a6e0-735b866bbf28",
   "metadata": {},
   "source": [
    "**Experimenting with max depth shows max_depth 10 as best. But to be sure we will include value 15, 20 and None for further testing.**"
   ]
  },
  {
   "cell_type": "code",
   "execution_count": 18,
   "id": "1d9ca429-5eeb-478a-9657-40562b361b66",
   "metadata": {},
   "outputs": [
    {
     "name": "stdout",
     "output_type": "stream",
     "text": [
      "   1 -> 0.650\n",
      "   2 -> 0.875\n",
      "   3 -> 0.896\n",
      "   4 -> 0.919\n",
      "   5 -> 0.946\n",
      "   6 -> 0.953\n",
      "  10 -> 0.896\n",
      "  15 -> 0.881\n",
      "  20 -> 0.883\n",
      "None -> 0.883\n"
     ]
    }
   ],
   "source": [
    "depths = [1, 2, 3, 4, 5, 6, 10, 15, 20, None]\n",
    "\n",
    "for depth in depths: \n",
    "    dt = DecisionTreeClassifier(class_weight='balanced', max_depth=depth, random_state=1)\n",
    "    dt.fit(X_train, y_train)\n",
    "    \n",
    "    y_pred = dt.predict_proba(X_val)\n",
    "    auc = roc_auc_score(y_val, y_pred, multi_class='ovr')\n",
    "    \n",
    "    print('%4s -> %.3f' % (depth, auc))"
   ]
  },
  {
   "cell_type": "code",
   "execution_count": 19,
   "id": "ef063598-4d36-4014-a664-3b6889a84dc9",
   "metadata": {},
   "outputs": [
    {
     "data": {
      "text/html": [
       "<div>\n",
       "<style scoped>\n",
       "    .dataframe tbody tr th:only-of-type {\n",
       "        vertical-align: middle;\n",
       "    }\n",
       "\n",
       "    .dataframe tbody tr th {\n",
       "        vertical-align: top;\n",
       "    }\n",
       "\n",
       "    .dataframe thead tr th {\n",
       "        text-align: left;\n",
       "    }\n",
       "\n",
       "    .dataframe thead tr:last-of-type th {\n",
       "        text-align: right;\n",
       "    }\n",
       "</style>\n",
       "<table border=\"1\" class=\"dataframe\">\n",
       "  <thead>\n",
       "    <tr>\n",
       "      <th></th>\n",
       "      <th colspan=\"4\" halign=\"left\">auc</th>\n",
       "    </tr>\n",
       "    <tr>\n",
       "      <th>max_depth</th>\n",
       "      <th>NaN</th>\n",
       "      <th>10.0</th>\n",
       "      <th>15.0</th>\n",
       "      <th>20.0</th>\n",
       "    </tr>\n",
       "    <tr>\n",
       "      <th>min_samples_leaf</th>\n",
       "      <th></th>\n",
       "      <th></th>\n",
       "      <th></th>\n",
       "      <th></th>\n",
       "    </tr>\n",
       "  </thead>\n",
       "  <tbody>\n",
       "    <tr>\n",
       "      <th>1</th>\n",
       "      <td>0.883</td>\n",
       "      <td>0.896</td>\n",
       "      <td>0.881</td>\n",
       "      <td>0.883</td>\n",
       "    </tr>\n",
       "    <tr>\n",
       "      <th>5</th>\n",
       "      <td>0.949</td>\n",
       "      <td>0.950</td>\n",
       "      <td>0.949</td>\n",
       "      <td>0.949</td>\n",
       "    </tr>\n",
       "    <tr>\n",
       "      <th>10</th>\n",
       "      <td>0.966</td>\n",
       "      <td>0.965</td>\n",
       "      <td>0.966</td>\n",
       "      <td>0.966</td>\n",
       "    </tr>\n",
       "    <tr>\n",
       "      <th>15</th>\n",
       "      <td>0.954</td>\n",
       "      <td>0.954</td>\n",
       "      <td>0.954</td>\n",
       "      <td>0.954</td>\n",
       "    </tr>\n",
       "    <tr>\n",
       "      <th>20</th>\n",
       "      <td>0.964</td>\n",
       "      <td>0.964</td>\n",
       "      <td>0.964</td>\n",
       "      <td>0.964</td>\n",
       "    </tr>\n",
       "    <tr>\n",
       "      <th>100</th>\n",
       "      <td>0.903</td>\n",
       "      <td>0.903</td>\n",
       "      <td>0.903</td>\n",
       "      <td>0.903</td>\n",
       "    </tr>\n",
       "    <tr>\n",
       "      <th>200</th>\n",
       "      <td>0.875</td>\n",
       "      <td>0.875</td>\n",
       "      <td>0.875</td>\n",
       "      <td>0.875</td>\n",
       "    </tr>\n",
       "    <tr>\n",
       "      <th>500</th>\n",
       "      <td>0.735</td>\n",
       "      <td>0.735</td>\n",
       "      <td>0.735</td>\n",
       "      <td>0.735</td>\n",
       "    </tr>\n",
       "  </tbody>\n",
       "</table>\n",
       "</div>"
      ],
      "text/plain": [
       "                    auc                     \n",
       "max_depth           NaN   10.0   15.0   20.0\n",
       "min_samples_leaf                            \n",
       "1                 0.883  0.896  0.881  0.883\n",
       "5                 0.949  0.950  0.949  0.949\n",
       "10                0.966  0.965  0.966  0.966\n",
       "15                0.954  0.954  0.954  0.954\n",
       "20                0.964  0.964  0.964  0.964\n",
       "100               0.903  0.903  0.903  0.903\n",
       "200               0.875  0.875  0.875  0.875\n",
       "500               0.735  0.735  0.735  0.735"
      ]
     },
     "execution_count": 19,
     "metadata": {},
     "output_type": "execute_result"
    }
   ],
   "source": [
    "scores = []\n",
    "\n",
    "for depth in [10, 15, 20, None]:\n",
    "    for s in [1, 5, 10, 15, 20, 500, 100, 200]:\n",
    "        dt = DecisionTreeClassifier(class_weight='balanced', max_depth=depth, min_samples_leaf=s, random_state=1)\n",
    "        dt.fit(X_train, y_train)\n",
    "\n",
    "        y_pred = dt.predict_proba(X_val)\n",
    "        auc = roc_auc_score(y_val, y_pred, multi_class='ovr')\n",
    "        \n",
    "        scores.append((depth, s, auc))\n",
    "        \n",
    "columns = ['max_depth', 'min_samples_leaf', 'auc']\n",
    "df_scores = pd.DataFrame(scores, columns=columns)\n",
    "\n",
    "df_scores_pivot = df_scores.pivot(index='min_samples_leaf', columns=['max_depth'], values=['auc'])\n",
    "df_scores_pivot.round(3)"
   ]
  },
  {
   "cell_type": "markdown",
   "id": "c9f2677f-12c4-4349-bc3a-cea092f413ee",
   "metadata": {},
   "source": [
    "**max_depth 6 and min_samples_leaf 15 outperformes the rest in ROC AUC**"
   ]
  },
  {
   "cell_type": "code",
   "execution_count": 20,
   "id": "f8824378-6d07-4b7e-916b-0667b2a49112",
   "metadata": {},
   "outputs": [
    {
     "data": {
      "text/plain": [
       "<Axes: xlabel='None-max_depth', ylabel='min_samples_leaf'>"
      ]
     },
     "execution_count": 20,
     "metadata": {},
     "output_type": "execute_result"
    },
    {
     "data": {
      "image/png": "[encoded data removed]",
      "text/plain": [
       "<Figure size 640x480 with 2 Axes>"
      ]
     },
     "metadata": {},
     "output_type": "display_data"
    }
   ],
   "source": [
    "sns.heatmap(df_scores_pivot, annot=True, fmt=\".3f\")"
   ]
  },
  {
   "cell_type": "markdown",
   "id": "1896a8ad-9b42-4e4e-9188-3e9c5cb5d8c8",
   "metadata": {},
   "source": [
    "**It's very important to set a seed/random_state with tree based models. Otherwise the score will be different each run**"
   ]
  },
  {
   "cell_type": "code",
   "execution_count": 21,
   "id": "aca935cf-96c7-4186-b942-8878e05fcfff",
   "metadata": {},
   "outputs": [
    {
     "data": {
      "text/html": [
       "<style>#sk-container-id-2 {\n",
       "  /* Definition of color scheme common for light and dark mode */\n",
       "  --sklearn-color-text: black;\n",
       "  --sklearn-color-line: gray;\n",
       "  /* Definition of color scheme for unfitted estimators */\n",
       "  --sklearn-color-unfitted-level-0: #fff5e6;\n",
       "  --sklearn-color-unfitted-level-1: #f6e4d2;\n",
       "  --sklearn-color-unfitted-level-2: #ffe0b3;\n",
       "  --sklearn-color-unfitted-level-3: chocolate;\n",
       "  /* Definition of color scheme for fitted estimators */\n",
       "  --sklearn-color-fitted-level-0: #f0f8ff;\n",
       "  --sklearn-color-fitted-level-1: #d4ebff;\n",
       "  --sklearn-color-fitted-level-2: #b3dbfd;\n",
       "  --sklearn-color-fitted-level-3: cornflowerblue;\n",
       "\n",
       "  /* Specific color for light theme */\n",
       "  --sklearn-color-text-on-default-background: var(--sg-text-color, var(--theme-code-foreground, var(--jp-content-font-color1, black)));\n",
       "  --sklearn-color-background: var(--sg-background-color, var(--theme-background, var(--jp-layout-color0, white)));\n",
       "  --sklearn-color-border-box: var(--sg-text-color, var(--theme-code-foreground, var(--jp-content-font-color1, black)));\n",
       "  --sklearn-color-icon: #696969;\n",
       "\n",
       "  @media (prefers-color-scheme: dark) {\n",
       "    /* Redefinition of color scheme for dark theme */\n",
       "    --sklearn-color-text-on-default-background: var(--sg-text-color, var(--theme-code-foreground, var(--jp-content-font-color1, white)));\n",
       "    --sklearn-color-background: var(--sg-background-color, var(--theme-background, var(--jp-layout-color0, #111)));\n",
       "    --sklearn-color-border-box: var(--sg-text-color, var(--theme-code-foreground, var(--jp-content-font-color1, white)));\n",
       "    --sklearn-color-icon: #878787;\n",
       "  }\n",
       "}\n",
       "\n",
       "#sk-container-id-2 {\n",
       "  color: var(--sklearn-color-text);\n",
       "}\n",
       "\n",
       "#sk-container-id-2 pre {\n",
       "  padding: 0;\n",
       "}\n",
       "\n",
       "#sk-container-id-2 input.sk-hidden--visually {\n",
       "  border: 0;\n",
       "  clip: rect(1px 1px 1px 1px);\n",
       "  clip: rect(1px, 1px, 1px, 1px);\n",
       "  height: 1px;\n",
       "  margin: -1px;\n",
       "  overflow: hidden;\n",
       "  padding: 0;\n",
       "  position: absolute;\n",
       "  width: 1px;\n",
       "}\n",
       "\n",
       "#sk-container-id-2 div.sk-dashed-wrapped {\n",
       "  border: 1px dashed var(--sklearn-color-line);\n",
       "  margin: 0 0.4em 0.5em 0.4em;\n",
       "  box-sizing: border-box;\n",
       "  padding-bottom: 0.4em;\n",
       "  background-color: var(--sklearn-color-background);\n",
       "}\n",
       "\n",
       "#sk-container-id-2 div.sk-container {\n",
       "  /* jupyter's `normalize.less` sets `[hidden] { display: none; }`\n",
       "     but bootstrap.min.css set `[hidden] { display: none !important; }`\n",
       "     so we also need the `!important` here to be able to override the\n",
       "     default hidden behavior on the sphinx rendered scikit-learn.org.\n",
       "     See: https://github.com/scikit-learn/scikit-learn/issues/21755 */\n",
       "  display: inline-block !important;\n",
       "  position: relative;\n",
       "}\n",
       "\n",
       "#sk-container-id-2 div.sk-text-repr-fallback {\n",
       "  display: none;\n",
       "}\n",
       "\n",
       "div.sk-parallel-item,\n",
       "div.sk-serial,\n",
       "div.sk-item {\n",
       "  /* draw centered vertical line to link estimators */\n",
       "  background-image: linear-gradient(var(--sklearn-color-text-on-default-background), var(--sklearn-color-text-on-default-background));\n",
       "  background-size: 2px 100%;\n",
       "  background-repeat: no-repeat;\n",
       "  background-position: center center;\n",
       "}\n",
       "\n",
       "/* Parallel-specific style estimator block */\n",
       "\n",
       "#sk-container-id-2 div.sk-parallel-item::after {\n",
       "  content: \"\";\n",
       "  width: 100%;\n",
       "  border-bottom: 2px solid var(--sklearn-color-text-on-default-background);\n",
       "  flex-grow: 1;\n",
       "}\n",
       "\n",
       "#sk-container-id-2 div.sk-parallel {\n",
       "  display: flex;\n",
       "  align-items: stretch;\n",
       "  justify-content: center;\n",
       "  background-color: var(--sklearn-color-background);\n",
       "  position: relative;\n",
       "}\n",
       "\n",
       "#sk-container-id-2 div.sk-parallel-item {\n",
       "  display: flex;\n",
       "  flex-direction: column;\n",
       "}\n",
       "\n",
       "#sk-container-id-2 div.sk-parallel-item:first-child::after {\n",
       "  align-self: flex-end;\n",
       "  width: 50%;\n",
       "}\n",
       "\n",
       "#sk-container-id-2 div.sk-parallel-item:last-child::after {\n",
       "  align-self: flex-start;\n",
       "  width: 50%;\n",
       "}\n",
       "\n",
       "#sk-container-id-2 div.sk-parallel-item:only-child::after {\n",
       "  width: 0;\n",
       "}\n",
       "\n",
       "/* Serial-specific style estimator block */\n",
       "\n",
       "#sk-container-id-2 div.sk-serial {\n",
       "  display: flex;\n",
       "  flex-direction: column;\n",
       "  align-items: center;\n",
       "  background-color: var(--sklearn-color-background);\n",
       "  padding-right: 1em;\n",
       "  padding-left: 1em;\n",
       "}\n",
       "\n",
       "\n",
       "/* Toggleable style: style used for estimator/Pipeline/ColumnTransformer box that is\n",
       "clickable and can be expanded/collapsed.\n",
       "- Pipeline and ColumnTransformer use this feature and define the default style\n",
       "- Estimators will overwrite some part of the style using the `sk-estimator` class\n",
       "*/\n",
       "\n",
       "/* Pipeline and ColumnTransformer style (default) */\n",
       "\n",
       "#sk-container-id-2 div.sk-toggleable {\n",
       "  /* Default theme specific background. It is overwritten whether we have a\n",
       "  specific estimator or a Pipeline/ColumnTransformer */\n",
       "  background-color: var(--sklearn-color-background);\n",
       "}\n",
       "\n",
       "/* Toggleable label */\n",
       "#sk-container-id-2 label.sk-toggleable__label {\n",
       "  cursor: pointer;\n",
       "  display: block;\n",
       "  width: 100%;\n",
       "  margin-bottom: 0;\n",
       "  padding: 0.5em;\n",
       "  box-sizing: border-box;\n",
       "  text-align: center;\n",
       "}\n",
       "\n",
       "#sk-container-id-2 label.sk-toggleable__label-arrow:before {\n",
       "  /* Arrow on the left of the label */\n",
       "  content: \"▸\";\n",
       "  float: left;\n",
       "  margin-right: 0.25em;\n",
       "  color: var(--sklearn-color-icon);\n",
       "}\n",
       "\n",
       "#sk-container-id-2 label.sk-toggleable__label-arrow:hover:before {\n",
       "  color: var(--sklearn-color-text);\n",
       "}\n",
       "\n",
       "/* Toggleable content - dropdown */\n",
       "\n",
       "#sk-container-id-2 div.sk-toggleable__content {\n",
       "  max-height: 0;\n",
       "  max-width: 0;\n",
       "  overflow: hidden;\n",
       "  text-align: left;\n",
       "  /* unfitted */\n",
       "  background-color: var(--sklearn-color-unfitted-level-0);\n",
       "}\n",
       "\n",
       "#sk-container-id-2 div.sk-toggleable__content.fitted {\n",
       "  /* fitted */\n",
       "  background-color: var(--sklearn-color-fitted-level-0);\n",
       "}\n",
       "\n",
       "#sk-container-id-2 div.sk-toggleable__content pre {\n",
       "  margin: 0.2em;\n",
       "  border-radius: 0.25em;\n",
       "  color: var(--sklearn-color-text);\n",
       "  /* unfitted */\n",
       "  background-color: var(--sklearn-color-unfitted-level-0);\n",
       "}\n",
       "\n",
       "#sk-container-id-2 div.sk-toggleable__content.fitted pre {\n",
       "  /* unfitted */\n",
       "  background-color: var(--sklearn-color-fitted-level-0);\n",
       "}\n",
       "\n",
       "#sk-container-id-2 input.sk-toggleable__control:checked~div.sk-toggleable__content {\n",
       "  /* Expand drop-down */\n",
       "  max-height: 200px;\n",
       "  max-width: 100%;\n",
       "  overflow: auto;\n",
       "}\n",
       "\n",
       "#sk-container-id-2 input.sk-toggleable__control:checked~label.sk-toggleable__label-arrow:before {\n",
       "  content: \"▾\";\n",
       "}\n",
       "\n",
       "/* Pipeline/ColumnTransformer-specific style */\n",
       "\n",
       "#sk-container-id-2 div.sk-label input.sk-toggleable__control:checked~label.sk-toggleable__label {\n",
       "  color: var(--sklearn-color-text);\n",
       "  background-color: var(--sklearn-color-unfitted-level-2);\n",
       "}\n",
       "\n",
       "#sk-container-id-2 div.sk-label.fitted input.sk-toggleable__control:checked~label.sk-toggleable__label {\n",
       "  background-color: var(--sklearn-color-fitted-level-2);\n",
       "}\n",
       "\n",
       "/* Estimator-specific style */\n",
       "\n",
       "/* Colorize estimator box */\n",
       "#sk-container-id-2 div.sk-estimator input.sk-toggleable__control:checked~label.sk-toggleable__label {\n",
       "  /* unfitted */\n",
       "  background-color: var(--sklearn-color-unfitted-level-2);\n",
       "}\n",
       "\n",
       "#sk-container-id-2 div.sk-estimator.fitted input.sk-toggleable__control:checked~label.sk-toggleable__label {\n",
       "  /* fitted */\n",
       "  background-color: var(--sklearn-color-fitted-level-2);\n",
       "}\n",
       "\n",
       "#sk-container-id-2 div.sk-label label.sk-toggleable__label,\n",
       "#sk-container-id-2 div.sk-label label {\n",
       "  /* The background is the default theme color */\n",
       "  color: var(--sklearn-color-text-on-default-background);\n",
       "}\n",
       "\n",
       "/* On hover, darken the color of the background */\n",
       "#sk-container-id-2 div.sk-label:hover label.sk-toggleable__label {\n",
       "  color: var(--sklearn-color-text);\n",
       "  background-color: var(--sklearn-color-unfitted-level-2);\n",
       "}\n",
       "\n",
       "/* Label box, darken color on hover, fitted */\n",
       "#sk-container-id-2 div.sk-label.fitted:hover label.sk-toggleable__label.fitted {\n",
       "  color: var(--sklearn-color-text);\n",
       "  background-color: var(--sklearn-color-fitted-level-2);\n",
       "}\n",
       "\n",
       "/* Estimator label */\n",
       "\n",
       "#sk-container-id-2 div.sk-label label {\n",
       "  font-family: monospace;\n",
       "  font-weight: bold;\n",
       "  display: inline-block;\n",
       "  line-height: 1.2em;\n",
       "}\n",
       "\n",
       "#sk-container-id-2 div.sk-label-container {\n",
       "  text-align: center;\n",
       "}\n",
       "\n",
       "/* Estimator-specific */\n",
       "#sk-container-id-2 div.sk-estimator {\n",
       "  font-family: monospace;\n",
       "  border: 1px dotted var(--sklearn-color-border-box);\n",
       "  border-radius: 0.25em;\n",
       "  box-sizing: border-box;\n",
       "  margin-bottom: 0.5em;\n",
       "  /* unfitted */\n",
       "  background-color: var(--sklearn-color-unfitted-level-0);\n",
       "}\n",
       "\n",
       "#sk-container-id-2 div.sk-estimator.fitted {\n",
       "  /* fitted */\n",
       "  background-color: var(--sklearn-color-fitted-level-0);\n",
       "}\n",
       "\n",
       "/* on hover */\n",
       "#sk-container-id-2 div.sk-estimator:hover {\n",
       "  /* unfitted */\n",
       "  background-color: var(--sklearn-color-unfitted-level-2);\n",
       "}\n",
       "\n",
       "#sk-container-id-2 div.sk-estimator.fitted:hover {\n",
       "  /* fitted */\n",
       "  background-color: var(--sklearn-color-fitted-level-2);\n",
       "}\n",
       "\n",
       "/* Specification for estimator info (e.g. \"i\" and \"?\") */\n",
       "\n",
       "/* Common style for \"i\" and \"?\" */\n",
       "\n",
       ".sk-estimator-doc-link,\n",
       "a:link.sk-estimator-doc-link,\n",
       "a:visited.sk-estimator-doc-link {\n",
       "  float: right;\n",
       "  font-size: smaller;\n",
       "  line-height: 1em;\n",
       "  font-family: monospace;\n",
       "  background-color: var(--sklearn-color-background);\n",
       "  border-radius: 1em;\n",
       "  height: 1em;\n",
       "  width: 1em;\n",
       "  text-decoration: none !important;\n",
       "  margin-left: 1ex;\n",
       "  /* unfitted */\n",
       "  border: var(--sklearn-color-unfitted-level-1) 1pt solid;\n",
       "  color: var(--sklearn-color-unfitted-level-1);\n",
       "}\n",
       "\n",
       ".sk-estimator-doc-link.fitted,\n",
       "a:link.sk-estimator-doc-link.fitted,\n",
       "a:visited.sk-estimator-doc-link.fitted {\n",
       "  /* fitted */\n",
       "  border: var(--sklearn-color-fitted-level-1) 1pt solid;\n",
       "  color: var(--sklearn-color-fitted-level-1);\n",
       "}\n",
       "\n",
       "/* On hover */\n",
       "div.sk-estimator:hover .sk-estimator-doc-link:hover,\n",
       ".sk-estimator-doc-link:hover,\n",
       "div.sk-label-container:hover .sk-estimator-doc-link:hover,\n",
       ".sk-estimator-doc-link:hover {\n",
       "  /* unfitted */\n",
       "  background-color: var(--sklearn-color-unfitted-level-3);\n",
       "  color: var(--sklearn-color-background);\n",
       "  text-decoration: none;\n",
       "}\n",
       "\n",
       "div.sk-estimator.fitted:hover .sk-estimator-doc-link.fitted:hover,\n",
       ".sk-estimator-doc-link.fitted:hover,\n",
       "div.sk-label-container:hover .sk-estimator-doc-link.fitted:hover,\n",
       ".sk-estimator-doc-link.fitted:hover {\n",
       "  /* fitted */\n",
       "  background-color: var(--sklearn-color-fitted-level-3);\n",
       "  color: var(--sklearn-color-background);\n",
       "  text-decoration: none;\n",
       "}\n",
       "\n",
       "/* Span, style for the box shown on hovering the info icon */\n",
       ".sk-estimator-doc-link span {\n",
       "  display: none;\n",
       "  z-index: 9999;\n",
       "  position: relative;\n",
       "  font-weight: normal;\n",
       "  right: .2ex;\n",
       "  padding: .5ex;\n",
       "  margin: .5ex;\n",
       "  width: min-content;\n",
       "  min-width: 20ex;\n",
       "  max-width: 50ex;\n",
       "  color: var(--sklearn-color-text);\n",
       "  box-shadow: 2pt 2pt 4pt #999;\n",
       "  /* unfitted */\n",
       "  background: var(--sklearn-color-unfitted-level-0);\n",
       "  border: .5pt solid var(--sklearn-color-unfitted-level-3);\n",
       "}\n",
       "\n",
       ".sk-estimator-doc-link.fitted span {\n",
       "  /* fitted */\n",
       "  background: var(--sklearn-color-fitted-level-0);\n",
       "  border: var(--sklearn-color-fitted-level-3);\n",
       "}\n",
       "\n",
       ".sk-estimator-doc-link:hover span {\n",
       "  display: block;\n",
       "}\n",
       "\n",
       "/* \"?\"-specific style due to the `<a>` HTML tag */\n",
       "\n",
       "#sk-container-id-2 a.estimator_doc_link {\n",
       "  float: right;\n",
       "  font-size: 1rem;\n",
       "  line-height: 1em;\n",
       "  font-family: monospace;\n",
       "  background-color: var(--sklearn-color-background);\n",
       "  border-radius: 1rem;\n",
       "  height: 1rem;\n",
       "  width: 1rem;\n",
       "  text-decoration: none;\n",
       "  /* unfitted */\n",
       "  color: var(--sklearn-color-unfitted-level-1);\n",
       "  border: var(--sklearn-color-unfitted-level-1) 1pt solid;\n",
       "}\n",
       "\n",
       "#sk-container-id-2 a.estimator_doc_link.fitted {\n",
       "  /* fitted */\n",
       "  border: var(--sklearn-color-fitted-level-1) 1pt solid;\n",
       "  color: var(--sklearn-color-fitted-level-1);\n",
       "}\n",
       "\n",
       "/* On hover */\n",
       "#sk-container-id-2 a.estimator_doc_link:hover {\n",
       "  /* unfitted */\n",
       "  background-color: var(--sklearn-color-unfitted-level-3);\n",
       "  color: var(--sklearn-color-background);\n",
       "  text-decoration: none;\n",
       "}\n",
       "\n",
       "#sk-container-id-2 a.estimator_doc_link.fitted:hover {\n",
       "  /* fitted */\n",
       "  background-color: var(--sklearn-color-fitted-level-3);\n",
       "}\n",
       "</style><div id=\"sk-container-id-2\" class=\"sk-top-container\"><div class=\"sk-text-repr-fallback\"><pre>DecisionTreeClassifier(class_weight=&#x27;balanced&#x27;, max_depth=6,\n",
       "                       min_samples_leaf=10, random_state=1)</pre><b>In a Jupyter environment, please rerun this cell to show the HTML representation or trust the notebook. <br />On GitHub, the HTML representation is unable to render, please try loading this page with nbviewer.org.</b></div><div class=\"sk-container\" hidden><div class=\"sk-item\"><div class=\"sk-estimator fitted sk-toggleable\"><input class=\"sk-toggleable__control sk-hidden--visually\" id=\"sk-estimator-id-2\" type=\"checkbox\" checked><label for=\"sk-estimator-id-2\" class=\"sk-toggleable__label fitted sk-toggleable__label-arrow fitted\">&nbsp;&nbsp;DecisionTreeClassifier<a class=\"sk-estimator-doc-link fitted\" rel=\"noreferrer\" target=\"_blank\" href=\"https://scikit-learn.org/1.5/modules/generated/sklearn.tree.DecisionTreeClassifier.html\">?<span>Documentation for DecisionTreeClassifier</span></a><span class=\"sk-estimator-doc-link fitted\">i<span>Fitted</span></span></label><div class=\"sk-toggleable__content fitted\"><pre>DecisionTreeClassifier(class_weight=&#x27;balanced&#x27;, max_depth=6,\n",
       "                       min_samples_leaf=10, random_state=1)</pre></div> </div></div></div></div>"
      ],
      "text/plain": [
       "DecisionTreeClassifier(class_weight='balanced', max_depth=6,\n",
       "                       min_samples_leaf=10, random_state=1)"
      ]
     },
     "execution_count": 21,
     "metadata": {},
     "output_type": "execute_result"
    }
   ],
   "source": [
    "dt = DecisionTreeClassifier(class_weight='balanced', max_depth=6, min_samples_leaf=10, random_state=1)\n",
    "dt.fit(X_train, y_train)"
   ]
  },
  {
   "cell_type": "code",
   "execution_count": 22,
   "id": "44e54650-164e-48b1-be18-f7210eb003cd",
   "metadata": {},
   "outputs": [
    {
     "data": {
      "text/plain": [
       "0.969"
      ]
     },
     "execution_count": 22,
     "metadata": {},
     "output_type": "execute_result"
    }
   ],
   "source": [
    "y_pred = dt.predict_proba(X_val)\n",
    "roc_auc_score(y_val, y_pred, multi_class='ovr').round(3)"
   ]
  },
  {
   "cell_type": "code",
   "execution_count": 23,
   "id": "6b117ea3-6449-4604-8393-904557ed7922",
   "metadata": {},
   "outputs": [
    {
     "name": "stdout",
     "output_type": "stream",
     "text": [
      "|--- histogram_mean <= 107.50\n",
      "|   |--- histogram_min <= 67.50\n",
      "|   |   |--- accelerations <= 0.00\n",
      "|   |   |   |--- class: unhealthy\n",
      "|   |   |--- accelerations >  0.00\n",
      "|   |   |   |--- class: unhealthy\n",
      "|   |--- histogram_min >  67.50\n",
      "|   |   |--- class: unhealthy\n",
      "|--- histogram_mean >  107.50\n",
      "|   |--- mean_value_of_short_term_variability <= 0.65\n",
      "|   |   |--- percentage_of_time_with_abnormal_long_term_variability <= 68.50\n",
      "|   |   |   |--- abnormal_short_term_variability <= 79.50\n",
      "|   |   |   |   |--- abnormal_short_term_variability <= 58.50\n",
      "|   |   |   |   |   |--- histogram_min <= 139.50\n",
      "|   |   |   |   |   |   |--- class: healthy\n",
      "|   |   |   |   |   |--- histogram_min >  139.50\n",
      "|   |   |   |   |   |   |--- class: suspicious\n",
      "|   |   |   |   |--- abnormal_short_term_variability >  58.50\n",
      "|   |   |   |   |   |--- percentage_of_time_with_abnormal_long_term_variability <= 5.50\n",
      "|   |   |   |   |   |   |--- class: suspicious\n",
      "|   |   |   |   |   |--- percentage_of_time_with_abnormal_long_term_variability >  5.50\n",
      "|   |   |   |   |   |   |--- class: suspicious\n",
      "|   |   |   |--- abnormal_short_term_variability >  79.50\n",
      "|   |   |   |   |--- class: unhealthy\n",
      "|   |   |--- percentage_of_time_with_abnormal_long_term_variability >  68.50\n",
      "|   |   |   |--- percentage_of_time_with_abnormal_long_term_variability <= 73.50\n",
      "|   |   |   |   |--- class: unhealthy\n",
      "|   |   |   |--- percentage_of_time_with_abnormal_long_term_variability >  73.50\n",
      "|   |   |   |   |--- class: unhealthy\n",
      "|   |--- mean_value_of_short_term_variability >  0.65\n",
      "|   |   |--- prolongued_decelerations <= 0.00\n",
      "|   |   |   |--- histogram_mean <= 147.50\n",
      "|   |   |   |   |--- histogram_variance <= 54.50\n",
      "|   |   |   |   |   |--- percentage_of_time_with_abnormal_long_term_variability <= 27.50\n",
      "|   |   |   |   |   |   |--- class: healthy\n",
      "|   |   |   |   |   |--- percentage_of_time_with_abnormal_long_term_variability >  27.50\n",
      "|   |   |   |   |   |   |--- class: healthy\n",
      "|   |   |   |   |--- histogram_variance >  54.50\n",
      "|   |   |   |   |   |--- histogram_median <= 125.50\n",
      "|   |   |   |   |   |   |--- class: unhealthy\n",
      "|   |   |   |   |   |--- histogram_median >  125.50\n",
      "|   |   |   |   |   |   |--- class: healthy\n",
      "|   |   |   |--- histogram_mean >  147.50\n",
      "|   |   |   |   |--- accelerations <= 0.00\n",
      "|   |   |   |   |   |--- abnormal_short_term_variability <= 46.50\n",
      "|   |   |   |   |   |   |--- class: suspicious\n",
      "|   |   |   |   |   |--- abnormal_short_term_variability >  46.50\n",
      "|   |   |   |   |   |   |--- class: suspicious\n",
      "|   |   |   |   |--- accelerations >  0.00\n",
      "|   |   |   |   |   |--- percentage_of_time_with_abnormal_long_term_variability <= 8.50\n",
      "|   |   |   |   |   |   |--- class: healthy\n",
      "|   |   |   |   |   |--- percentage_of_time_with_abnormal_long_term_variability >  8.50\n",
      "|   |   |   |   |   |   |--- class: healthy\n",
      "|   |   |--- prolongued_decelerations >  0.00\n",
      "|   |   |   |--- histogram_number_of_peaks <= 7.50\n",
      "|   |   |   |   |--- class: unhealthy\n",
      "|   |   |   |--- histogram_number_of_peaks >  7.50\n",
      "|   |   |   |   |--- class: suspicious\n",
      "\n"
     ]
    }
   ],
   "source": [
    "# Assuming dt is your decision tree model and X_train is a DataFrame\n",
    "feature_names = X_train.columns.tolist()\n",
    "\n",
    "# Generate the tree rules\n",
    "tree_rules = export_text(dt, feature_names=feature_names)\n",
    "\n",
    "# Replace class labels with meaningful names\n",
    "tree_rules = tree_rules.replace(\"class: 1\", \"class: healthy\") \\\n",
    "                       .replace(\"class: 2\", \"class: suspicious\") \\\n",
    "                       .replace(\"class: 3\", \"class: unhealthy\")\n",
    "\n",
    "# Print the modified tree rules\n",
    "print(tree_rules)"
   ]
  },
  {
   "cell_type": "markdown",
   "id": "9d4a53dc-91b2-4369-a2c8-100ab9f48146",
   "metadata": {},
   "source": [
    "## Random forest"
   ]
  },
  {
   "cell_type": "code",
   "execution_count": 24,
   "id": "c41067b4-6879-4e1a-b819-062dad50eb81",
   "metadata": {},
   "outputs": [],
   "source": [
    "scores = []\n",
    "\n",
    "for n in range(10, 201, 10):\n",
    "    rf = RandomForestClassifier(class_weight='balanced', n_estimators=n, random_state=1)\n",
    "    rf.fit(X_train, y_train)\n",
    "\n",
    "    y_pred = rf.predict_proba(X_val)\n",
    "    auc = roc_auc_score(y_val, y_pred, multi_class='ovr')\n",
    "    \n",
    "    scores.append((n, auc))"
   ]
  },
  {
   "cell_type": "code",
   "execution_count": 25,
   "id": "1f0122b7-7f31-4599-8cd7-7718faccdfaf",
   "metadata": {},
   "outputs": [],
   "source": [
    "df_scores = pd.DataFrame(scores, columns=['n_estimators', 'auc'])"
   ]
  },
  {
   "cell_type": "markdown",
   "id": "d7d49446-3291-4f13-b669-caeec407c8e5",
   "metadata": {},
   "source": [
    "**Best value for n_estimators is 50. Let's zoom in into the next plot to see the AUC**"
   ]
  },
  {
   "cell_type": "code",
   "execution_count": 26,
   "id": "5bb4d739-a9be-4648-82fa-29cddf6e4419",
   "metadata": {},
   "outputs": [
    {
     "data": {
      "image/png": "[encoded data removed]",
      "text/plain": [
       "<Figure size 1200x600 with 1 Axes>"
      ]
     },
     "metadata": {},
     "output_type": "display_data"
    }
   ],
   "source": [
    "# Increase the figure size (width, height)\n",
    "plt.figure(figsize=(12, 6))  # Adjust width (12) and height (6) as needed\n",
    "\n",
    "# Plot the data, add marker o\n",
    "plt.plot(df_scores.n_estimators, df_scores.auc, marker='o', linestyle='-', color='blue')\n",
    "\n",
    "# Add more bins (ticks) on the x-axis\n",
    "plt.xticks(range(10, 201, 10))  # Set ticks at intervals of 10\n",
    "\n",
    "# Add more bins (ticks) on the x-axis\n",
    "#plt.yticks([0.985, 0.986, 0.987, 0.988])  # Set ticks at intervals of 0.001\n",
    "\n",
    "# Rotate x-axis labels\n",
    "plt.xticks(rotation=45)\n",
    "\n",
    "# Add a grid\n",
    "plt.grid(True, linestyle='--', alpha=0.7)\n",
    "\n",
    "# Zoom in on the y-axis\n",
    "#plt.ylim(0.985, 0.988)  # Set y-axis limits to focus on a specific range\n",
    "\n",
    "# Add axis labels and title\n",
    "plt.xlabel('Number of Estimators (n_estimators)')\n",
    "plt.ylabel('AUC Score')\n",
    "plt.title('AUC Score vs Number of Estimators (Zoomed Y-Axis)')\n",
    "\n",
    "# Adjust padding\n",
    "plt.tight_layout()\n",
    "\n",
    "# Display the plot, not needed for Jupyter notebooks but it's good practice\n",
    "plt.show()"
   ]
  },
  {
   "cell_type": "markdown",
   "id": "ac43185f-3996-4408-ba42-a009135dfa83",
   "metadata": {},
   "source": [
    "**Best value for n_estimators is 50 with a AUC score of 0.9877**"
   ]
  },
  {
   "cell_type": "code",
   "execution_count": 27,
   "id": "ba68ae8f-9f39-4377-9758-23277560e7cb",
   "metadata": {},
   "outputs": [
    {
     "data": {
      "image/png": "[encoded data removed]",
      "text/plain": [
       "<Figure size 1200x600 with 1 Axes>"
      ]
     },
     "metadata": {},
     "output_type": "display_data"
    }
   ],
   "source": [
    "# Increase the figure size (width, height)\n",
    "plt.figure(figsize=(12, 6))  # Adjust width (12) and height (6) as needed\n",
    "\n",
    "# Plot the data, add marker o\n",
    "plt.plot(df_scores.n_estimators, df_scores.auc, marker='o', linestyle='-', color='blue')\n",
    "\n",
    "# Add more bins (ticks) on the x-axis\n",
    "plt.xticks(range(10, 201, 10))  # Set ticks at intervals of 10\n",
    "\n",
    "# Set y-axis ticks at intervals of 0.001\n",
    "#plt.yticks(np.arange(0.970, 0.984, 0.001)) \n",
    "\n",
    "# Rotate x-axis labels\n",
    "plt.xticks(rotation=45)\n",
    "\n",
    "# Add a grid\n",
    "plt.grid(True, linestyle='--', alpha=0.7)\n",
    "\n",
    "# Zoom in on the y-axis\n",
    "plt.ylim(0.9875, 0.9880)  # Set y-axis limits to focus on a specific range\n",
    "\n",
    "# Add axis labels and title\n",
    "plt.xlabel('Number of Estimators (n_estimators)')\n",
    "plt.ylabel('AUC Score')\n",
    "plt.title('AUC Score vs Number of Estimators (Zoomed Y-Axis)')\n",
    "\n",
    "# Adjust padding\n",
    "plt.tight_layout()\n",
    "\n",
    "# Display the plot, not needed for Jupyter notebooks but it's good practice\n",
    "plt.show()"
   ]
  },
  {
   "cell_type": "code",
   "execution_count": 28,
   "id": "97c9a92a-a17f-4317-94e0-0e8708d3502b",
   "metadata": {},
   "outputs": [],
   "source": [
    "scores = []\n",
    "\n",
    "for d in [5, 10, 15]:\n",
    "    for n in range(10, 201, 10):\n",
    "        rf = RandomForestClassifier(class_weight='balanced', \n",
    "                                    n_estimators=n,\n",
    "                                    max_depth=d,\n",
    "                                    random_state=1)\n",
    "        rf.fit(X_train, y_train)\n",
    "    \n",
    "        y_pred = rf.predict_proba(X_val)\n",
    "        auc = roc_auc_score(y_val, y_pred, multi_class='ovr')\n",
    "        \n",
    "        scores.append((d, n, auc))"
   ]
  },
  {
   "cell_type": "code",
   "execution_count": 29,
   "id": "0467b0e2-cb6e-4c14-a70a-343570fbbf18",
   "metadata": {},
   "outputs": [],
   "source": [
    "columns = ['max_depth', 'n_estimators', 'auc']\n",
    "df_scores = pd.DataFrame(scores, columns=columns)"
   ]
  },
  {
   "cell_type": "code",
   "execution_count": 30,
   "id": "047119f0-2229-406a-8424-a431ceded40c",
   "metadata": {},
   "outputs": [
    {
     "data": {
      "text/plain": [
       "<matplotlib.legend.Legend at 0x7fb8bb4c6180>"
      ]
     },
     "execution_count": 30,
     "metadata": {},
     "output_type": "execute_result"
    },
    {
     "data": {
      "image/png": "[encoded data removed]",
      "text/plain": [
       "<Figure size 640x480 with 1 Axes>"
      ]
     },
     "metadata": {},
     "output_type": "display_data"
    }
   ],
   "source": [
    "for d in [5, 10, 15]:\n",
    "    df_subset = df_scores[df_scores.max_depth == d]\n",
    "    \n",
    "    plt.plot(df_subset.n_estimators, df_subset.auc,\n",
    "             label='max_depth=%d' % d)\n",
    "\n",
    "plt.legend()"
   ]
  },
  {
   "cell_type": "code",
   "execution_count": 31,
   "id": "c7d0e467-b56b-4d49-831a-a5b348d83791",
   "metadata": {},
   "outputs": [],
   "source": [
    "max_depth = 10"
   ]
  },
  {
   "cell_type": "code",
   "execution_count": 32,
   "id": "22a0d48b-fd62-4c2d-a7e2-23c888e0c229",
   "metadata": {},
   "outputs": [],
   "source": [
    "scores = []\n",
    "\n",
    "for s in [1, 3, 5, 10, 50]:\n",
    "    for n in range(10, 201, 10):\n",
    "        rf = RandomForestClassifier(n_estimators=n,\n",
    "                                    max_depth=max_depth,\n",
    "                                    min_samples_leaf=s,\n",
    "                                    random_state=1)\n",
    "        rf.fit(X_train, y_train)\n",
    "\n",
    "        y_pred = rf.predict_proba(X_val)\n",
    "        auc = roc_auc_score(y_val, y_pred, multi_class='ovr')\n",
    "        scores.append((s, n, auc))"
   ]
  },
  {
   "cell_type": "code",
   "execution_count": 33,
   "id": "78e1f9d8-c964-4c91-93c1-f8f72c0ac51e",
   "metadata": {},
   "outputs": [],
   "source": [
    "columns = ['min_samples_leaf', 'n_estimators', 'auc']\n",
    "df_scores = pd.DataFrame(scores, columns=columns)"
   ]
  },
  {
   "cell_type": "code",
   "execution_count": 34,
   "id": "83f2118b-c92f-42c9-8c86-0565e5a4d2d5",
   "metadata": {},
   "outputs": [
    {
     "data": {
      "text/plain": [
       "<matplotlib.legend.Legend at 0x7fb8bb3272c0>"
      ]
     },
     "execution_count": 34,
     "metadata": {},
     "output_type": "execute_result"
    },
    {
     "data": {
      "image/png": "[encoded data removed]",
      "text/plain": [
       "<Figure size 640x480 with 1 Axes>"
      ]
     },
     "metadata": {},
     "output_type": "display_data"
    }
   ],
   "source": [
    "colors = ['black', 'blue', 'orange', 'red', 'grey']\n",
    "values = [1, 3, 5, 10, 50]\n",
    "\n",
    "for s, col in zip(values, colors):\n",
    "    df_subset = df_scores[df_scores.min_samples_leaf == s]\n",
    "    \n",
    "    plt.plot(df_subset.n_estimators, df_subset.auc,\n",
    "             color=col,\n",
    "             label='min_samples_leaf=%d' % s)\n",
    "\n",
    "plt.legend()"
   ]
  },
  {
   "cell_type": "markdown",
   "id": "5c506166-2605-4cfb-a1a5-8584d2d7714c",
   "metadata": {},
   "source": [
    "**We will use min_samples_leaf 1, max_depth 10 and n_estimators 50**"
   ]
  },
  {
   "cell_type": "markdown",
   "id": "dcbd00e4-ad4f-44b5-99bc-4cbf8cdab64d",
   "metadata": {},
   "source": [
    "### Final Random Forrest Model"
   ]
  },
  {
   "cell_type": "code",
   "execution_count": 35,
   "id": "198d8233-9c82-42e4-835d-5aa5effc0b60",
   "metadata": {},
   "outputs": [
    {
     "data": {
      "text/html": [
       "<style>#sk-container-id-3 {\n",
       "  /* Definition of color scheme common for light and dark mode */\n",
       "  --sklearn-color-text: black;\n",
       "  --sklearn-color-line: gray;\n",
       "  /* Definition of color scheme for unfitted estimators */\n",
       "  --sklearn-color-unfitted-level-0: #fff5e6;\n",
       "  --sklearn-color-unfitted-level-1: #f6e4d2;\n",
       "  --sklearn-color-unfitted-level-2: #ffe0b3;\n",
       "  --sklearn-color-unfitted-level-3: chocolate;\n",
       "  /* Definition of color scheme for fitted estimators */\n",
       "  --sklearn-color-fitted-level-0: #f0f8ff;\n",
       "  --sklearn-color-fitted-level-1: #d4ebff;\n",
       "  --sklearn-color-fitted-level-2: #b3dbfd;\n",
       "  --sklearn-color-fitted-level-3: cornflowerblue;\n",
       "\n",
       "  /* Specific color for light theme */\n",
       "  --sklearn-color-text-on-default-background: var(--sg-text-color, var(--theme-code-foreground, var(--jp-content-font-color1, black)));\n",
       "  --sklearn-color-background: var(--sg-background-color, var(--theme-background, var(--jp-layout-color0, white)));\n",
       "  --sklearn-color-border-box: var(--sg-text-color, var(--theme-code-foreground, var(--jp-content-font-color1, black)));\n",
       "  --sklearn-color-icon: #696969;\n",
       "\n",
       "  @media (prefers-color-scheme: dark) {\n",
       "    /* Redefinition of color scheme for dark theme */\n",
       "    --sklearn-color-text-on-default-background: var(--sg-text-color, var(--theme-code-foreground, var(--jp-content-font-color1, white)));\n",
       "    --sklearn-color-background: var(--sg-background-color, var(--theme-background, var(--jp-layout-color0, #111)));\n",
       "    --sklearn-color-border-box: var(--sg-text-color, var(--theme-code-foreground, var(--jp-content-font-color1, white)));\n",
       "    --sklearn-color-icon: #878787;\n",
       "  }\n",
       "}\n",
       "\n",
       "#sk-container-id-3 {\n",
       "  color: var(--sklearn-color-text);\n",
       "}\n",
       "\n",
       "#sk-container-id-3 pre {\n",
       "  padding: 0;\n",
       "}\n",
       "\n",
       "#sk-container-id-3 input.sk-hidden--visually {\n",
       "  border: 0;\n",
       "  clip: rect(1px 1px 1px 1px);\n",
       "  clip: rect(1px, 1px, 1px, 1px);\n",
       "  height: 1px;\n",
       "  margin: -1px;\n",
       "  overflow: hidden;\n",
       "  padding: 0;\n",
       "  position: absolute;\n",
       "  width: 1px;\n",
       "}\n",
       "\n",
       "#sk-container-id-3 div.sk-dashed-wrapped {\n",
       "  border: 1px dashed var(--sklearn-color-line);\n",
       "  margin: 0 0.4em 0.5em 0.4em;\n",
       "  box-sizing: border-box;\n",
       "  padding-bottom: 0.4em;\n",
       "  background-color: var(--sklearn-color-background);\n",
       "}\n",
       "\n",
       "#sk-container-id-3 div.sk-container {\n",
       "  /* jupyter's `normalize.less` sets `[hidden] { display: none; }`\n",
       "     but bootstrap.min.css set `[hidden] { display: none !important; }`\n",
       "     so we also need the `!important` here to be able to override the\n",
       "     default hidden behavior on the sphinx rendered scikit-learn.org.\n",
       "     See: https://github.com/scikit-learn/scikit-learn/issues/21755 */\n",
       "  display: inline-block !important;\n",
       "  position: relative;\n",
       "}\n",
       "\n",
       "#sk-container-id-3 div.sk-text-repr-fallback {\n",
       "  display: none;\n",
       "}\n",
       "\n",
       "div.sk-parallel-item,\n",
       "div.sk-serial,\n",
       "div.sk-item {\n",
       "  /* draw centered vertical line to link estimators */\n",
       "  background-image: linear-gradient(var(--sklearn-color-text-on-default-background), var(--sklearn-color-text-on-default-background));\n",
       "  background-size: 2px 100%;\n",
       "  background-repeat: no-repeat;\n",
       "  background-position: center center;\n",
       "}\n",
       "\n",
       "/* Parallel-specific style estimator block */\n",
       "\n",
       "#sk-container-id-3 div.sk-parallel-item::after {\n",
       "  content: \"\";\n",
       "  width: 100%;\n",
       "  border-bottom: 2px solid var(--sklearn-color-text-on-default-background);\n",
       "  flex-grow: 1;\n",
       "}\n",
       "\n",
       "#sk-container-id-3 div.sk-parallel {\n",
       "  display: flex;\n",
       "  align-items: stretch;\n",
       "  justify-content: center;\n",
       "  background-color: var(--sklearn-color-background);\n",
       "  position: relative;\n",
       "}\n",
       "\n",
       "#sk-container-id-3 div.sk-parallel-item {\n",
       "  display: flex;\n",
       "  flex-direction: column;\n",
       "}\n",
       "\n",
       "#sk-container-id-3 div.sk-parallel-item:first-child::after {\n",
       "  align-self: flex-end;\n",
       "  width: 50%;\n",
       "}\n",
       "\n",
       "#sk-container-id-3 div.sk-parallel-item:last-child::after {\n",
       "  align-self: flex-start;\n",
       "  width: 50%;\n",
       "}\n",
       "\n",
       "#sk-container-id-3 div.sk-parallel-item:only-child::after {\n",
       "  width: 0;\n",
       "}\n",
       "\n",
       "/* Serial-specific style estimator block */\n",
       "\n",
       "#sk-container-id-3 div.sk-serial {\n",
       "  display: flex;\n",
       "  flex-direction: column;\n",
       "  align-items: center;\n",
       "  background-color: var(--sklearn-color-background);\n",
       "  padding-right: 1em;\n",
       "  padding-left: 1em;\n",
       "}\n",
       "\n",
       "\n",
       "/* Toggleable style: style used for estimator/Pipeline/ColumnTransformer box that is\n",
       "clickable and can be expanded/collapsed.\n",
       "- Pipeline and ColumnTransformer use this feature and define the default style\n",
       "- Estimators will overwrite some part of the style using the `sk-estimator` class\n",
       "*/\n",
       "\n",
       "/* Pipeline and ColumnTransformer style (default) */\n",
       "\n",
       "#sk-container-id-3 div.sk-toggleable {\n",
       "  /* Default theme specific background. It is overwritten whether we have a\n",
       "  specific estimator or a Pipeline/ColumnTransformer */\n",
       "  background-color: var(--sklearn-color-background);\n",
       "}\n",
       "\n",
       "/* Toggleable label */\n",
       "#sk-container-id-3 label.sk-toggleable__label {\n",
       "  cursor: pointer;\n",
       "  display: block;\n",
       "  width: 100%;\n",
       "  margin-bottom: 0;\n",
       "  padding: 0.5em;\n",
       "  box-sizing: border-box;\n",
       "  text-align: center;\n",
       "}\n",
       "\n",
       "#sk-container-id-3 label.sk-toggleable__label-arrow:before {\n",
       "  /* Arrow on the left of the label */\n",
       "  content: \"▸\";\n",
       "  float: left;\n",
       "  margin-right: 0.25em;\n",
       "  color: var(--sklearn-color-icon);\n",
       "}\n",
       "\n",
       "#sk-container-id-3 label.sk-toggleable__label-arrow:hover:before {\n",
       "  color: var(--sklearn-color-text);\n",
       "}\n",
       "\n",
       "/* Toggleable content - dropdown */\n",
       "\n",
       "#sk-container-id-3 div.sk-toggleable__content {\n",
       "  max-height: 0;\n",
       "  max-width: 0;\n",
       "  overflow: hidden;\n",
       "  text-align: left;\n",
       "  /* unfitted */\n",
       "  background-color: var(--sklearn-color-unfitted-level-0);\n",
       "}\n",
       "\n",
       "#sk-container-id-3 div.sk-toggleable__content.fitted {\n",
       "  /* fitted */\n",
       "  background-color: var(--sklearn-color-fitted-level-0);\n",
       "}\n",
       "\n",
       "#sk-container-id-3 div.sk-toggleable__content pre {\n",
       "  margin: 0.2em;\n",
       "  border-radius: 0.25em;\n",
       "  color: var(--sklearn-color-text);\n",
       "  /* unfitted */\n",
       "  background-color: var(--sklearn-color-unfitted-level-0);\n",
       "}\n",
       "\n",
       "#sk-container-id-3 div.sk-toggleable__content.fitted pre {\n",
       "  /* unfitted */\n",
       "  background-color: var(--sklearn-color-fitted-level-0);\n",
       "}\n",
       "\n",
       "#sk-container-id-3 input.sk-toggleable__control:checked~div.sk-toggleable__content {\n",
       "  /* Expand drop-down */\n",
       "  max-height: 200px;\n",
       "  max-width: 100%;\n",
       "  overflow: auto;\n",
       "}\n",
       "\n",
       "#sk-container-id-3 input.sk-toggleable__control:checked~label.sk-toggleable__label-arrow:before {\n",
       "  content: \"▾\";\n",
       "}\n",
       "\n",
       "/* Pipeline/ColumnTransformer-specific style */\n",
       "\n",
       "#sk-container-id-3 div.sk-label input.sk-toggleable__control:checked~label.sk-toggleable__label {\n",
       "  color: var(--sklearn-color-text);\n",
       "  background-color: var(--sklearn-color-unfitted-level-2);\n",
       "}\n",
       "\n",
       "#sk-container-id-3 div.sk-label.fitted input.sk-toggleable__control:checked~label.sk-toggleable__label {\n",
       "  background-color: var(--sklearn-color-fitted-level-2);\n",
       "}\n",
       "\n",
       "/* Estimator-specific style */\n",
       "\n",
       "/* Colorize estimator box */\n",
       "#sk-container-id-3 div.sk-estimator input.sk-toggleable__control:checked~label.sk-toggleable__label {\n",
       "  /* unfitted */\n",
       "  background-color: var(--sklearn-color-unfitted-level-2);\n",
       "}\n",
       "\n",
       "#sk-container-id-3 div.sk-estimator.fitted input.sk-toggleable__control:checked~label.sk-toggleable__label {\n",
       "  /* fitted */\n",
       "  background-color: var(--sklearn-color-fitted-level-2);\n",
       "}\n",
       "\n",
       "#sk-container-id-3 div.sk-label label.sk-toggleable__label,\n",
       "#sk-container-id-3 div.sk-label label {\n",
       "  /* The background is the default theme color */\n",
       "  color: var(--sklearn-color-text-on-default-background);\n",
       "}\n",
       "\n",
       "/* On hover, darken the color of the background */\n",
       "#sk-container-id-3 div.sk-label:hover label.sk-toggleable__label {\n",
       "  color: var(--sklearn-color-text);\n",
       "  background-color: var(--sklearn-color-unfitted-level-2);\n",
       "}\n",
       "\n",
       "/* Label box, darken color on hover, fitted */\n",
       "#sk-container-id-3 div.sk-label.fitted:hover label.sk-toggleable__label.fitted {\n",
       "  color: var(--sklearn-color-text);\n",
       "  background-color: var(--sklearn-color-fitted-level-2);\n",
       "}\n",
       "\n",
       "/* Estimator label */\n",
       "\n",
       "#sk-container-id-3 div.sk-label label {\n",
       "  font-family: monospace;\n",
       "  font-weight: bold;\n",
       "  display: inline-block;\n",
       "  line-height: 1.2em;\n",
       "}\n",
       "\n",
       "#sk-container-id-3 div.sk-label-container {\n",
       "  text-align: center;\n",
       "}\n",
       "\n",
       "/* Estimator-specific */\n",
       "#sk-container-id-3 div.sk-estimator {\n",
       "  font-family: monospace;\n",
       "  border: 1px dotted var(--sklearn-color-border-box);\n",
       "  border-radius: 0.25em;\n",
       "  box-sizing: border-box;\n",
       "  margin-bottom: 0.5em;\n",
       "  /* unfitted */\n",
       "  background-color: var(--sklearn-color-unfitted-level-0);\n",
       "}\n",
       "\n",
       "#sk-container-id-3 div.sk-estimator.fitted {\n",
       "  /* fitted */\n",
       "  background-color: var(--sklearn-color-fitted-level-0);\n",
       "}\n",
       "\n",
       "/* on hover */\n",
       "#sk-container-id-3 div.sk-estimator:hover {\n",
       "  /* unfitted */\n",
       "  background-color: var(--sklearn-color-unfitted-level-2);\n",
       "}\n",
       "\n",
       "#sk-container-id-3 div.sk-estimator.fitted:hover {\n",
       "  /* fitted */\n",
       "  background-color: var(--sklearn-color-fitted-level-2);\n",
       "}\n",
       "\n",
       "/* Specification for estimator info (e.g. \"i\" and \"?\") */\n",
       "\n",
       "/* Common style for \"i\" and \"?\" */\n",
       "\n",
       ".sk-estimator-doc-link,\n",
       "a:link.sk-estimator-doc-link,\n",
       "a:visited.sk-estimator-doc-link {\n",
       "  float: right;\n",
       "  font-size: smaller;\n",
       "  line-height: 1em;\n",
       "  font-family: monospace;\n",
       "  background-color: var(--sklearn-color-background);\n",
       "  border-radius: 1em;\n",
       "  height: 1em;\n",
       "  width: 1em;\n",
       "  text-decoration: none !important;\n",
       "  margin-left: 1ex;\n",
       "  /* unfitted */\n",
       "  border: var(--sklearn-color-unfitted-level-1) 1pt solid;\n",
       "  color: var(--sklearn-color-unfitted-level-1);\n",
       "}\n",
       "\n",
       ".sk-estimator-doc-link.fitted,\n",
       "a:link.sk-estimator-doc-link.fitted,\n",
       "a:visited.sk-estimator-doc-link.fitted {\n",
       "  /* fitted */\n",
       "  border: var(--sklearn-color-fitted-level-1) 1pt solid;\n",
       "  color: var(--sklearn-color-fitted-level-1);\n",
       "}\n",
       "\n",
       "/* On hover */\n",
       "div.sk-estimator:hover .sk-estimator-doc-link:hover,\n",
       ".sk-estimator-doc-link:hover,\n",
       "div.sk-label-container:hover .sk-estimator-doc-link:hover,\n",
       ".sk-estimator-doc-link:hover {\n",
       "  /* unfitted */\n",
       "  background-color: var(--sklearn-color-unfitted-level-3);\n",
       "  color: var(--sklearn-color-background);\n",
       "  text-decoration: none;\n",
       "}\n",
       "\n",
       "div.sk-estimator.fitted:hover .sk-estimator-doc-link.fitted:hover,\n",
       ".sk-estimator-doc-link.fitted:hover,\n",
       "div.sk-label-container:hover .sk-estimator-doc-link.fitted:hover,\n",
       ".sk-estimator-doc-link.fitted:hover {\n",
       "  /* fitted */\n",
       "  background-color: var(--sklearn-color-fitted-level-3);\n",
       "  color: var(--sklearn-color-background);\n",
       "  text-decoration: none;\n",
       "}\n",
       "\n",
       "/* Span, style for the box shown on hovering the info icon */\n",
       ".sk-estimator-doc-link span {\n",
       "  display: none;\n",
       "  z-index: 9999;\n",
       "  position: relative;\n",
       "  font-weight: normal;\n",
       "  right: .2ex;\n",
       "  padding: .5ex;\n",
       "  margin: .5ex;\n",
       "  width: min-content;\n",
       "  min-width: 20ex;\n",
       "  max-width: 50ex;\n",
       "  color: var(--sklearn-color-text);\n",
       "  box-shadow: 2pt 2pt 4pt #999;\n",
       "  /* unfitted */\n",
       "  background: var(--sklearn-color-unfitted-level-0);\n",
       "  border: .5pt solid var(--sklearn-color-unfitted-level-3);\n",
       "}\n",
       "\n",
       ".sk-estimator-doc-link.fitted span {\n",
       "  /* fitted */\n",
       "  background: var(--sklearn-color-fitted-level-0);\n",
       "  border: var(--sklearn-color-fitted-level-3);\n",
       "}\n",
       "\n",
       ".sk-estimator-doc-link:hover span {\n",
       "  display: block;\n",
       "}\n",
       "\n",
       "/* \"?\"-specific style due to the `<a>` HTML tag */\n",
       "\n",
       "#sk-container-id-3 a.estimator_doc_link {\n",
       "  float: right;\n",
       "  font-size: 1rem;\n",
       "  line-height: 1em;\n",
       "  font-family: monospace;\n",
       "  background-color: var(--sklearn-color-background);\n",
       "  border-radius: 1rem;\n",
       "  height: 1rem;\n",
       "  width: 1rem;\n",
       "  text-decoration: none;\n",
       "  /* unfitted */\n",
       "  color: var(--sklearn-color-unfitted-level-1);\n",
       "  border: var(--sklearn-color-unfitted-level-1) 1pt solid;\n",
       "}\n",
       "\n",
       "#sk-container-id-3 a.estimator_doc_link.fitted {\n",
       "  /* fitted */\n",
       "  border: var(--sklearn-color-fitted-level-1) 1pt solid;\n",
       "  color: var(--sklearn-color-fitted-level-1);\n",
       "}\n",
       "\n",
       "/* On hover */\n",
       "#sk-container-id-3 a.estimator_doc_link:hover {\n",
       "  /* unfitted */\n",
       "  background-color: var(--sklearn-color-unfitted-level-3);\n",
       "  color: var(--sklearn-color-background);\n",
       "  text-decoration: none;\n",
       "}\n",
       "\n",
       "#sk-container-id-3 a.estimator_doc_link.fitted:hover {\n",
       "  /* fitted */\n",
       "  background-color: var(--sklearn-color-fitted-level-3);\n",
       "}\n",
       "</style><div id=\"sk-container-id-3\" class=\"sk-top-container\"><div class=\"sk-text-repr-fallback\"><pre>RandomForestClassifier(max_depth=10, n_estimators=50, random_state=1)</pre><b>In a Jupyter environment, please rerun this cell to show the HTML representation or trust the notebook. <br />On GitHub, the HTML representation is unable to render, please try loading this page with nbviewer.org.</b></div><div class=\"sk-container\" hidden><div class=\"sk-item\"><div class=\"sk-estimator fitted sk-toggleable\"><input class=\"sk-toggleable__control sk-hidden--visually\" id=\"sk-estimator-id-3\" type=\"checkbox\" checked><label for=\"sk-estimator-id-3\" class=\"sk-toggleable__label fitted sk-toggleable__label-arrow fitted\">&nbsp;&nbsp;RandomForestClassifier<a class=\"sk-estimator-doc-link fitted\" rel=\"noreferrer\" target=\"_blank\" href=\"https://scikit-learn.org/1.5/modules/generated/sklearn.ensemble.RandomForestClassifier.html\">?<span>Documentation for RandomForestClassifier</span></a><span class=\"sk-estimator-doc-link fitted\">i<span>Fitted</span></span></label><div class=\"sk-toggleable__content fitted\"><pre>RandomForestClassifier(max_depth=10, n_estimators=50, random_state=1)</pre></div> </div></div></div></div>"
      ],
      "text/plain": [
       "RandomForestClassifier(max_depth=10, n_estimators=50, random_state=1)"
      ]
     },
     "execution_count": 35,
     "metadata": {},
     "output_type": "execute_result"
    }
   ],
   "source": [
    "rf = RandomForestClassifier(n_estimators=50,\n",
    "                            max_depth=10,\n",
    "                            min_samples_leaf=1,\n",
    "                            random_state=1)\n",
    "rf.fit(X_train, y_train)"
   ]
  },
  {
   "cell_type": "code",
   "execution_count": 36,
   "id": "bb5969aa-1f68-4593-8793-9a9e14c8f6a6",
   "metadata": {},
   "outputs": [
    {
     "data": {
      "text/plain": [
       "0.9872377421169606"
      ]
     },
     "execution_count": 36,
     "metadata": {},
     "output_type": "execute_result"
    }
   ],
   "source": [
    "y_pred = rf.predict_proba(X_val)\n",
    "roc_auc_score(y_val, y_pred, multi_class='ovr')"
   ]
  },
  {
   "cell_type": "code",
   "execution_count": 37,
   "id": "4d533db0-abb6-45e9-a304-3fbb247eb42a",
   "metadata": {},
   "outputs": [
    {
     "name": "stdout",
     "output_type": "stream",
     "text": [
      "abnormal_short_term_variability                           0.154365\n",
      "mean_value_of_short_term_variability                      0.127892\n",
      "percentage_of_time_with_abnormal_long_term_variability    0.102211\n",
      "histogram_mean                                            0.091105\n",
      "histogram_mode                                            0.069245\n",
      "prolongued_decelerations                                  0.053713\n",
      "histogram_median                                          0.046995\n",
      "accelerations                                             0.044607\n",
      "baseline value                                            0.043701\n",
      "histogram_variance                                        0.040666\n",
      "uterine_contractions                                      0.037928\n",
      "mean_value_of_long_term_variability                       0.036959\n",
      "histogram_width                                           0.034727\n",
      "histogram_min                                             0.029995\n",
      "histogram_max                                             0.025851\n",
      "fetal_movement                                            0.022592\n",
      "histogram_number_of_peaks                                 0.021009\n",
      "light_decelerations                                       0.006599\n",
      "histogram_tendency                                        0.005778\n",
      "histogram_number_of_zeroes                                0.003947\n",
      "severe_decelerations                                      0.000115\n",
      "dtype: float64\n"
     ]
    }
   ],
   "source": [
    "importances = rf.feature_importances_\n",
    "print(pd.Series(importances, index=X_train.columns).sort_values(ascending=False))"
   ]
  },
  {
   "cell_type": "code",
   "execution_count": 38,
   "id": "aec3b773-df1f-4e9d-9124-0312748551f5",
   "metadata": {},
   "outputs": [
    {
     "name": "stdout",
     "output_type": "stream",
     "text": [
      "Training AUC: 0.9999390247208163, Validation AUC: 0.9872377421169606\n"
     ]
    }
   ],
   "source": [
    "train_auc = roc_auc_score(y_train, rf.predict_proba(X_train), multi_class='ovr')\n",
    "val_auc = roc_auc_score(y_val, rf.predict_proba(X_val), multi_class='ovr')\n",
    "print(f\"Training AUC: {train_auc}, Validation AUC: {val_auc}\")"
   ]
  },
  {
   "cell_type": "markdown",
   "id": "f45976e3-2465-4566-9094-5aec37c8104a",
   "metadata": {},
   "source": [
    "**It seems it overfits**"
   ]
  },
  {
   "cell_type": "markdown",
   "id": "acf93f7a-1783-4621-8af6-9cd9c34ba938",
   "metadata": {},
   "source": [
    "**Let's look at XGBoost model**"
   ]
  },
  {
   "cell_type": "markdown",
   "id": "0a03ad06-db01-49f6-8f32-14faab0acbf9",
   "metadata": {},
   "source": [
    "## XGBoost model - gradient boosting"
   ]
  },
  {
   "cell_type": "markdown",
   "id": "a6204a07-33ec-4858-b49f-9374ec7ed0c2",
   "metadata": {},
   "source": [
    "**Should be best as this is tabular data but let's not jump to conclusions**"
   ]
  },
  {
   "cell_type": "code",
   "execution_count": 39,
   "id": "0906bc72-7b89-4a6c-a23b-0f5d48cbff6a",
   "metadata": {},
   "outputs": [
    {
     "data": {
      "text/plain": [
       "<xgboost.core.DMatrix at 0x7fb8bb49a6f0>"
      ]
     },
     "metadata": {},
     "output_type": "display_data"
    },
    {
     "data": {
      "text/plain": [
       "<xgboost.core.DMatrix at 0x7fb8bbd88e90>"
      ]
     },
     "metadata": {},
     "output_type": "display_data"
    }
   ],
   "source": [
    "features = X_train.columns.tolist()\n",
    "dtrain = xgb.DMatrix(X_train, label=y_train, feature_names=features)\n",
    "dval = xgb.DMatrix(X_val, label=y_val, feature_names=features)\n",
    "display(dtrain)\n",
    "display(dval)"
   ]
  },
  {
   "cell_type": "code",
   "execution_count": 40,
   "id": "aaad7812-7cea-46fb-86b9-0ea7f01089a2",
   "metadata": {},
   "outputs": [
    {
     "data": {
      "text/plain": [
       "'number of classes: 3'"
      ]
     },
     "metadata": {},
     "output_type": "display_data"
    },
    {
     "data": {
      "text/plain": [
       "array([1, 2, 3])"
      ]
     },
     "metadata": {},
     "output_type": "display_data"
    }
   ],
   "source": [
    "num_classes = len(np.unique(y_train))\n",
    "display(f\"number of classes: {num_classes}\")\n",
    "display(np.unique(y_train))"
   ]
  },
  {
   "cell_type": "markdown",
   "id": "d44ed809-2ac4-433a-84db-586dc47d4c65",
   "metadata": {},
   "source": [
    "**For XGBoost classes need to be zero indexed and we have 1, 2, 3 signifying health values**"
   ]
  },
  {
   "cell_type": "code",
   "execution_count": 41,
   "id": "8b71917f-f2f2-4090-a0a9-b06fcd682f88",
   "metadata": {},
   "outputs": [
    {
     "name": "stdout",
     "output_type": "stream",
     "text": [
      "Shape of X_train: (1275, 21)\n",
      "Shape of y_train: (1275,)\n",
      "Shape of X_val: (425, 21)\n",
      "Shape of y_val: (425,)\n"
     ]
    }
   ],
   "source": [
    "print('Shape of X_train:', X_train.shape)\n",
    "print('Shape of y_train:', y_train.shape)\n",
    "print('Shape of X_val:', X_val.shape)\n",
    "print('Shape of y_val:', y_val.shape)"
   ]
  },
  {
   "cell_type": "code",
   "execution_count": 42,
   "id": "d8c49312-0099-4a9f-8b9c-a088adaf4813",
   "metadata": {},
   "outputs": [
    {
     "name": "stdout",
     "output_type": "stream",
     "text": [
      "Unique values in y_train: [0 1 2]\n",
      "Unique values in y_val: [0 1 2]\n"
     ]
    }
   ],
   "source": [
    "# Ensure the labels are zero-indexed\n",
    "label_encoder = LabelEncoder()\n",
    "y_train = label_encoder.fit_transform(y_train)\n",
    "y_val = label_encoder.transform(y_val)  # Same transformation for validation set\n",
    "\n",
    "print('Unique values in y_train:', np.unique(y_train))\n",
    "print('Unique values in y_val:', np.unique(y_val))"
   ]
  },
  {
   "cell_type": "code",
   "execution_count": 43,
   "id": "c446deb5-c309-4959-b9a3-1e07f772d4b4",
   "metadata": {},
   "outputs": [],
   "source": [
    "# Proceed with creating DMatrix\n",
    "features = X_train.columns.tolist()\n",
    "dtrain = xgb.DMatrix(X_train, label=y_train, feature_names=features)\n",
    "dval = xgb.DMatrix(X_val, label=y_val, feature_names=features)\n",
    "\n",
    "# Define parameters\n",
    "xgb_params = {\n",
    "    'eta': 0.3,\n",
    "    'max_depth': 6,\n",
    "    'min_child_weight': 1,\n",
    "    'objective': 'multi:softprob',\n",
    "    'num_class': 3,\n",
    "    'nthread': -1,\n",
    "    'seed': 1,\n",
    "    'verbosity': 1,\n",
    "}\n",
    "\n",
    "# Train the model\n",
    "model = xgb.train(xgb_params, dtrain, num_boost_round=10)"
   ]
  },
  {
   "cell_type": "code",
   "execution_count": 44,
   "id": "393e1440-ddb3-4021-9ad7-9417e1286b7b",
   "metadata": {},
   "outputs": [],
   "source": [
    "y_pred = model.predict(dval)"
   ]
  },
  {
   "cell_type": "code",
   "execution_count": 45,
   "id": "88bfd868-14c8-495d-9659-e5d2f486d0be",
   "metadata": {},
   "outputs": [
    {
     "data": {
      "text/plain": [
       "0.9855096222011522"
      ]
     },
     "execution_count": 45,
     "metadata": {},
     "output_type": "execute_result"
    }
   ],
   "source": [
    "roc_auc_score(y_val, y_pred, multi_class='ovr')"
   ]
  },
  {
   "cell_type": "code",
   "execution_count": 46,
   "id": "099658fe-00d8-4a74-9bdc-403e40917472",
   "metadata": {},
   "outputs": [],
   "source": [
    "watchlist = [(dtrain, 'train'), (dval, 'val')]"
   ]
  },
  {
   "cell_type": "code",
   "execution_count": 47,
   "id": "77752fa1-77e3-4e68-aa8c-1cb3238cd0a0",
   "metadata": {},
   "outputs": [],
   "source": [
    "%%capture output\n",
    "\n",
    "xgb_params = {\n",
    "    'eta': 0.3,\n",
    "    'max_depth': 6,\n",
    "    'min_child_weight': 1,\n",
    "    'objective': 'multi:softprob',\n",
    "    'num_class': 3,\n",
    "    'eval_metric': 'auc',\n",
    "    'nthread': -1,\n",
    "    'seed': 1,\n",
    "    'verbosity': 1,\n",
    "}\n",
    "\n",
    "model = xgb.train(xgb_params, dtrain, num_boost_round=200,\n",
    "                  verbose_eval=5,\n",
    "                  evals=watchlist)"
   ]
  },
  {
   "cell_type": "code",
   "execution_count": 48,
   "id": "357d4fbe-3666-4726-a8db-bb07fbfc1fee",
   "metadata": {},
   "outputs": [
    {
     "name": "stdout",
     "output_type": "stream",
     "text": [
      "[0]\ttrain-auc:0.98966\tval-auc:0.96605\n",
      "[5]\ttrain-auc:0.99892\tval-auc:0.97516\n",
      "[10]\ttrain-auc:0.99990\tval-auc:0.98407\n",
      "[15]\ttrain-auc:0.99999\tval-auc:0.98670\n",
      "[20]\ttrain-auc:1.00000\tval-auc:0.98773\n",
      "[25]\ttrain-auc:1.00000\tval-auc:0.98750\n",
      "[30]\ttrain-auc:1.00000\tval-auc:0.98715\n",
      "[35]\ttrain-auc:1.00000\tval-auc:0.98742\n",
      "[40]\ttrain-auc:1.00000\tval-auc:0.98663\n",
      "[45]\ttrain-auc:1.00000\tval-auc:0.98636\n",
      "[50]\ttrain-auc:1.00000\tval-auc:0.98628\n",
      "[55]\ttrain-auc:1.00000\tval-auc:0.98622\n",
      "[60]\ttrain-auc:1.00000\tval-auc:0.98613\n",
      "[65]\ttrain-auc:1.00000\tval-auc:0.98627\n",
      "[70]\ttrain-auc:1.00000\tval-auc:0.98611\n",
      "[75]\ttrain-auc:1.00000\tval-auc:0.98606\n",
      "[80]\ttrain-auc:1.00000\tval-auc:0.98583\n",
      "[85]\ttrain-auc:1.00000\tval-auc:0.98581\n",
      "[90]\ttrain-auc:1.00000\tval-auc:0.98567\n",
      "[95]\ttrain-auc:1.00000\tval-auc:0.98567\n",
      "[100]\ttrain-auc:1.00000\tval-auc:0.98549\n",
      "[105]\ttrain-auc:1.00000\tval-auc:0.98533\n",
      "[110]\ttrain-auc:1.00000\tval-auc:0.98524\n",
      "[115]\ttrain-auc:1.00000\tval-auc:0.98540\n",
      "[120]\ttrain-auc:1.00000\tval-auc:0.98527\n",
      "[125]\ttrain-auc:1.00000\tval-auc:0.98557\n",
      "[130]\ttrain-auc:1.00000\tval-auc:0.98539\n",
      "[135]\ttrain-auc:1.00000\tval-auc:0.98552\n",
      "[140]\ttrain-auc:1.00000\tval-auc:0.98551\n",
      "[145]\ttrain-auc:1.00000\tval-auc:0.98554\n",
      "[150]\ttrain-auc:1.00000\tval-auc:0.98533\n",
      "[155]\ttrain-auc:1.00000\tval-auc:0.98514\n",
      "[160]\ttrain-auc:1.00000\tval-auc:0.98510\n",
      "[165]\ttrain-auc:1.00000\tval-auc:0.98514\n",
      "[170]\ttrain-auc:1.00000\tval-auc:0.98504\n",
      "[175]\ttrain-auc:1.00000\tval-auc:0.98507\n",
      "[180]\ttrain-auc:1.00000\tval-auc:0.98501\n",
      "[185]\ttrain-auc:1.00000\tval-auc:0.98505\n",
      "[190]\ttrain-auc:1.00000\tval-auc:0.98498\n",
      "[195]\ttrain-auc:1.00000\tval-auc:0.98522\n",
      "[199]\ttrain-auc:1.00000\tval-auc:0.98510\n",
      "\n"
     ]
    }
   ],
   "source": [
    "s = output.stdout\n",
    "print(s)"
   ]
  },
  {
   "cell_type": "code",
   "execution_count": 49,
   "id": "d1f5a1ac-f38a-4628-b5b3-c922ebf72c3a",
   "metadata": {},
   "outputs": [],
   "source": [
    "def parse_xgb_output(output):\n",
    "    results = []\n",
    "\n",
    "    for line in output.stdout.strip().split('\\n'):\n",
    "        it_line, train_line, val_line = line.split('\\t')\n",
    "\n",
    "        it = int(it_line.strip('[]'))\n",
    "        train = float(train_line.split(':')[1])\n",
    "        val = float(val_line.split(':')[1])\n",
    "\n",
    "        results.append((it, train, val))\n",
    "    \n",
    "    columns = ['num_iter', 'train_auc', 'val_auc']\n",
    "    df_results = pd.DataFrame(results, columns=columns)\n",
    "    return df_results"
   ]
  },
  {
   "cell_type": "code",
   "execution_count": 50,
   "id": "80693ac7-4612-47c1-aec4-ae61a76c5a90",
   "metadata": {},
   "outputs": [],
   "source": [
    "df_score = parse_xgb_output(output)"
   ]
  },
  {
   "cell_type": "code",
   "execution_count": 51,
   "id": "cc2e9be4-0ace-4aa4-9da3-b29c0fad8cf0",
   "metadata": {},
   "outputs": [
    {
     "data": {
      "text/plain": [
       "<matplotlib.legend.Legend at 0x7fb8bb3442f0>"
      ]
     },
     "execution_count": 51,
     "metadata": {},
     "output_type": "execute_result"
    },
    {
     "data": {
      "image/png": "[encoded data removed]",
      "text/plain": [
       "<Figure size 640x480 with 1 Axes>"
      ]
     },
     "metadata": {},
     "output_type": "display_data"
    }
   ],
   "source": [
    "plt.plot(df_score.num_iter, df_score.train_auc, label='train')\n",
    "plt.plot(df_score.num_iter, df_score.val_auc, label='val')\n",
    "plt.legend()"
   ]
  },
  {
   "cell_type": "code",
   "execution_count": 52,
   "id": "a4c035b1-db44-432f-a293-495ee3be944c",
   "metadata": {},
   "outputs": [
    {
     "data": {
      "text/plain": [
       "<matplotlib.legend.Legend at 0x7fb8bb27e270>"
      ]
     },
     "execution_count": 52,
     "metadata": {},
     "output_type": "execute_result"
    },
    {
     "data": {
      "image/png": "[encoded data removed]",
      "text/plain": [
       "<Figure size 640x480 with 1 Axes>"
      ]
     },
     "metadata": {},
     "output_type": "display_data"
    }
   ],
   "source": [
    "plt.plot(df_score.num_iter, df_score.train_auc, label='train')\n",
    "#plt.plot(df_score.num_iter, df_score.val_auc, label='val')\n",
    "plt.legend()"
   ]
  },
  {
   "cell_type": "code",
   "execution_count": 53,
   "id": "ac3f327f-16ce-4e63-88ea-b2a7c7dcfd3f",
   "metadata": {},
   "outputs": [
    {
     "data": {
      "text/plain": [
       "<matplotlib.legend.Legend at 0x7fb8b8551d90>"
      ]
     },
     "execution_count": 53,
     "metadata": {},
     "output_type": "execute_result"
    },
    {
     "data": {
      "image/png": "[encoded data removed]",
      "text/plain": [
       "<Figure size 640x480 with 1 Axes>"
      ]
     },
     "metadata": {},
     "output_type": "display_data"
    }
   ],
   "source": [
    "#plt.plot(df_score.num_iter, df_score.train_auc, label='train')\n",
    "plt.plot(df_score.num_iter, df_score.val_auc, label='val')\n",
    "plt.legend()"
   ]
  },
  {
   "cell_type": "code",
   "execution_count": 54,
   "id": "c0fe55f6-3b6f-416a-a71a-fcc774da8266",
   "metadata": {},
   "outputs": [],
   "source": [
    "y_pred = model.predict(dval)"
   ]
  },
  {
   "cell_type": "code",
   "execution_count": 55,
   "id": "c6ce24d0-6c18-4228-a8f5-4902a975e962",
   "metadata": {},
   "outputs": [
    {
     "data": {
      "text/plain": [
       "0.9864455283749693"
      ]
     },
     "execution_count": 55,
     "metadata": {},
     "output_type": "execute_result"
    }
   ],
   "source": [
    "roc_auc_score(y_val, y_pred, multi_class='ovr')"
   ]
  },
  {
   "cell_type": "markdown",
   "id": "767b6e0e-5753-447c-91cb-a7ee998d964c",
   "metadata": {},
   "source": [
    "### XGBoost parameter tuning"
   ]
  },
  {
   "cell_type": "markdown",
   "id": "47f3df05-8e99-4623-9458-2413cab1b3f1",
   "metadata": {},
   "source": [
    "**We will tune: `eta`, `max_depth` and `min_child_weight` parameters**\n",
    "                "
   ]
  },
  {
   "cell_type": "markdown",
   "id": "5b6ab8a6-73ce-4b2f-b9b5-64b9f9a501b8",
   "metadata": {},
   "source": [
    "**ETA**"
   ]
  },
  {
   "cell_type": "code",
   "execution_count": 56,
   "id": "edcc7712-8fdd-4810-bc66-03b75345d3e0",
   "metadata": {},
   "outputs": [],
   "source": [
    "from io import StringIO\n",
    "import sys"
   ]
  },
  {
   "cell_type": "code",
   "execution_count": 57,
   "id": "9a541514-9058-4018-ad1c-e59466c1cec1",
   "metadata": {},
   "outputs": [],
   "source": [
    "def parse_xgb_output(output):\n",
    "    results = []\n",
    "\n",
    "    for line in output.strip().split('\\n'):\n",
    "        parts = line.split('\\t')\n",
    "\n",
    "        if len(parts) >= 3:\n",
    "            it_line, train_line, val_line = parts[0], parts[1], parts[2]\n",
    "            it = int(it_line.strip('[]'))\n",
    "            train = float(train_line.split(':')[1])\n",
    "            val = float(val_line.split(':')[1])\n",
    "            results.append((it, train, val))\n",
    "\n",
    "    columns = ['num_iter', 'train_auc', 'val_auc']\n",
    "    df_results = pd.DataFrame(results, columns=columns)\n",
    "    return df_results"
   ]
  },
  {
   "cell_type": "code",
   "execution_count": 58,
   "id": "a5604146-07d4-4e04-93cf-b9e7562eb62c",
   "metadata": {},
   "outputs": [
    {
     "data": {
      "text/plain": [
       "'\\n# Print or inspect the scores\\nfor key, df in eta_scores.items():\\n    print(f\"Results for {key}:\")\\n    print(df)\\n'"
      ]
     },
     "execution_count": 58,
     "metadata": {},
     "output_type": "execute_result"
    }
   ],
   "source": [
    "etas = [0.01, 0.05, 0.1, 0.3, 1.0]\n",
    "eta_scores = {}\n",
    "\n",
    "for eta in etas:\n",
    "    xgb_params = {\n",
    "        'eta': eta,\n",
    "        'max_depth': 6,\n",
    "        'min_child_weight': 1,\n",
    "        'objective': 'multi:softprob',\n",
    "        'num_class': 3,\n",
    "        'eval_metric': 'auc',\n",
    "        'nthread': -1,\n",
    "        'seed': 1,\n",
    "        'verbosity': 1,\n",
    "    }\n",
    "\n",
    "    # Redirect stdout to a StringIO object\n",
    "    old_stdout = sys.stdout\n",
    "    sys.stdout = StringIO()\n",
    "\n",
    "    try:\n",
    "        # Train model and capture output\n",
    "        model = xgb.train(xgb_params, dtrain, num_boost_round=200,\n",
    "                          verbose_eval=5,\n",
    "                          evals=watchlist)\n",
    "\n",
    "        # Capture the output from StringIO\n",
    "        captured_output = sys.stdout.getvalue()\n",
    "\n",
    "    finally:\n",
    "        # Reset stdout to its original value\n",
    "        sys.stdout = old_stdout\n",
    "\n",
    "    # Parse and store the output\n",
    "    key = f'eta={eta}'\n",
    "    eta_scores[key] = parse_xgb_output(captured_output)\n",
    "'''\n",
    "# Print or inspect the scores\n",
    "for key, df in eta_scores.items():\n",
    "    print(f\"Results for {key}:\")\n",
    "    print(df)\n",
    "'''"
   ]
  },
  {
   "cell_type": "code",
   "execution_count": 59,
   "id": "88882613-44b7-4c46-8903-59c51c4300a6",
   "metadata": {},
   "outputs": [
    {
     "data": {
      "text/plain": [
       "dict_keys(['eta=0.01', 'eta=0.05', 'eta=0.1', 'eta=0.3', 'eta=1.0'])"
      ]
     },
     "execution_count": 59,
     "metadata": {},
     "output_type": "execute_result"
    }
   ],
   "source": [
    "eta_scores.keys()"
   ]
  },
  {
   "cell_type": "markdown",
   "id": "6552efd0-7db5-45a3-b861-c7429b10055f",
   "metadata": {},
   "source": [
    "**ETA 0.1, 0.05 and 0.3 are neck and neck. ETA 0.3 starts strong early but the AUC declines. <br>\n",
    "ETA 0.1 needs to reach num_boost_round 100 and then is almost stable while <br>\n",
    "ETA 0.05 has the best AUC but it reaches it at 180 - 200 num_boost_round. <br>\n",
    "<br>\n",
    "If this was in a production environment we would save the performance cost and go with 0.3. <br>\n",
    "But since this is a personal project on a small dataset we will choose 0.05 for maximum performance.**"
   ]
  },
  {
   "cell_type": "code",
   "execution_count": 60,
   "id": "e3ff674d-a0ee-4272-a640-301d955c5eff",
   "metadata": {},
   "outputs": [
    {
     "data": {
      "image/png": "[encoded data removed]",
      "text/plain": [
       "<Figure size 640x480 with 1 Axes>"
      ]
     },
     "metadata": {},
     "output_type": "display_data"
    }
   ],
   "source": [
    "for key, df_score in eta_scores.items():\n",
    "    plt.plot(df_score.num_iter, df_score.val_auc, label=key, linewidth=3)\n",
    "# Create the legend\n",
    "legend = plt.legend()\n",
    "\n",
    "# Make the legend lines thicker\n",
    "for line in legend.get_lines():\n",
    "    line.set_linewidth(4)  # Adjust the line width as needed"
   ]
  },
  {
   "cell_type": "markdown",
   "id": "d9cc4970-e99e-4f3a-8382-55c53fb1131c",
   "metadata": {},
   "source": [
    "**MAX_DEPTH**"
   ]
  },
  {
   "cell_type": "code",
   "execution_count": 61,
   "id": "974544c2-31b9-45c8-8c6b-8e0ddc578982",
   "metadata": {},
   "outputs": [],
   "source": [
    "max_depths = [3, 4, 6, 10]\n",
    "max_depth_scores = {}\n",
    "\n",
    "for depth in max_depths:\n",
    "    xgb_params = {\n",
    "        'eta': 0.05,\n",
    "        'max_depth': depth,\n",
    "        'min_child_weight': 1,\n",
    "        'objective': 'multi:softprob',\n",
    "        'num_class': 3,\n",
    "        'eval_metric': 'auc',\n",
    "        'nthread': -1,\n",
    "        'seed': 1,\n",
    "        'verbosity': 1,\n",
    "    }\n",
    "\n",
    "    # Redirect stdout to a StringIO object\n",
    "    old_stdout = sys.stdout\n",
    "    sys.stdout = StringIO()\n",
    "\n",
    "    try:\n",
    "        # Train model and capture output\n",
    "        model = xgb.train(xgb_params, dtrain, num_boost_round=200,\n",
    "                          verbose_eval=5,\n",
    "                          evals=watchlist)\n",
    "\n",
    "        # Capture the output from StringIO\n",
    "        captured_output = sys.stdout.getvalue()\n",
    "\n",
    "    finally:\n",
    "        # Reset stdout to its original value\n",
    "        sys.stdout = old_stdout\n",
    "\n",
    "    # Parse and store the output\n",
    "    key = f'max_depth={depth}'\n",
    "    max_depth_scores[key] = parse_xgb_output(captured_output)"
   ]
  },
  {
   "cell_type": "code",
   "execution_count": 62,
   "id": "7118a553-c6d6-4eb4-9327-96eab24775e1",
   "metadata": {},
   "outputs": [
    {
     "data": {
      "text/plain": [
       "dict_keys(['max_depth=3', 'max_depth=4', 'max_depth=6', 'max_depth=10'])"
      ]
     },
     "execution_count": 62,
     "metadata": {},
     "output_type": "execute_result"
    }
   ],
   "source": [
    "max_depth_scores.keys()"
   ]
  },
  {
   "cell_type": "code",
   "execution_count": 63,
   "id": "7d7a3766-641a-435c-afa6-8265e395b414",
   "metadata": {},
   "outputs": [
    {
     "data": {
      "image/png": "[encoded data removed]",
      "text/plain": [
       "<Figure size 640x480 with 1 Axes>"
      ]
     },
     "metadata": {},
     "output_type": "display_data"
    }
   ],
   "source": [
    "for key, df_score in max_depth_scores.items():\n",
    "    plt.plot(df_score.num_iter, df_score.val_auc, label=key)\n",
    "# Create the legend\n",
    "legend = plt.legend()\n",
    "\n",
    "# Make the legend lines thicker\n",
    "for line in legend.get_lines():\n",
    "    line.set_linewidth(4)  # Adjust the line width as needed"
   ]
  },
  {
   "cell_type": "code",
   "execution_count": 64,
   "id": "181ead45-709a-4f23-a0b1-257961781377",
   "metadata": {},
   "outputs": [
    {
     "data": {
      "image/png": "[encoded data removed]",
      "text/plain": [
       "<Figure size 640x480 with 1 Axes>"
      ]
     },
     "metadata": {},
     "output_type": "display_data"
    }
   ],
   "source": [
    "for key, df_score in max_depth_scores.items():\n",
    "    plt.plot(df_score.num_iter, df_score.val_auc, label=key)\n",
    "plt.ylim(0.97, 0.99)\n",
    "# Create the legend\n",
    "legend = plt.legend()\n",
    "\n",
    "# Make the legend lines thicker\n",
    "for line in legend.get_lines():\n",
    "    line.set_linewidth(4)  # Adjust the line width as needed"
   ]
  },
  {
   "cell_type": "code",
   "execution_count": 65,
   "id": "55f62228-9dcd-40c6-90f4-6417eee45467",
   "metadata": {},
   "outputs": [
    {
     "data": {
      "image/png": "[encoded data removed]",
      "text/plain": [
       "<Figure size 640x480 with 1 Axes>"
      ]
     },
     "metadata": {},
     "output_type": "display_data"
    }
   ],
   "source": [
    "for key, df_score in max_depth_scores.items():\n",
    "    plt.plot(df_score.num_iter, df_score.val_auc, label=key)\n",
    "plt.ylim(0.98, 0.99)\n",
    "# Create the legend\n",
    "legend = plt.legend()\n",
    "\n",
    "# Make the legend lines thicker\n",
    "for line in legend.get_lines():\n",
    "    line.set_linewidth(4)  # Adjust the line width as needed"
   ]
  },
  {
   "cell_type": "markdown",
   "id": "3b1986d0-ea90-46b8-ad29-371834c36696",
   "metadata": {},
   "source": [
    "**We will use max_depth 6**"
   ]
  },
  {
   "cell_type": "markdown",
   "id": "b0292966-f424-47e1-94e5-5c0ed321a1d5",
   "metadata": {},
   "source": [
    "**MIN_CHILD_WEIGHT**"
   ]
  },
  {
   "cell_type": "code",
   "execution_count": 66,
   "id": "6976c3e5-1186-42c5-aa5c-0618b384fdf8",
   "metadata": {},
   "outputs": [],
   "source": [
    "min_child_weights = [1, 10, 30]\n",
    "min_child_weight_scores = {}\n",
    "\n",
    "for weight in min_child_weights:\n",
    "    xgb_params = {\n",
    "        'eta': 0.05,\n",
    "        'max_depth': 6,\n",
    "        'min_child_weight': weight,\n",
    "        'objective': 'multi:softprob',\n",
    "        'num_class': 3,\n",
    "        'eval_metric': 'auc',\n",
    "        'nthread': -1,\n",
    "        'seed': 1,\n",
    "        'verbosity': 1,\n",
    "    }\n",
    "\n",
    "    # Redirect stdout to a StringIO object\n",
    "    old_stdout = sys.stdout\n",
    "    sys.stdout = StringIO()\n",
    "\n",
    "    try:\n",
    "        # Train model and capture output\n",
    "        model = xgb.train(xgb_params, dtrain, num_boost_round=200,\n",
    "                          verbose_eval=5,\n",
    "                          evals=watchlist)\n",
    "\n",
    "        # Capture the output from StringIO\n",
    "        captured_output = sys.stdout.getvalue()\n",
    "\n",
    "    finally:\n",
    "        # Reset stdout to its original value\n",
    "        sys.stdout = old_stdout\n",
    "\n",
    "    # Parse and store the output\n",
    "    key = f'min_child_weight={weight}'\n",
    "    min_child_weight_scores[key] = parse_xgb_output(captured_output)"
   ]
  },
  {
   "cell_type": "code",
   "execution_count": 67,
   "id": "11bc1bfd-7575-460d-8254-bf331b123e81",
   "metadata": {},
   "outputs": [
    {
     "data": {
      "text/plain": [
       "dict_keys(['min_child_weight=1', 'min_child_weight=10', 'min_child_weight=30'])"
      ]
     },
     "execution_count": 67,
     "metadata": {},
     "output_type": "execute_result"
    }
   ],
   "source": [
    "min_child_weight_scores.keys()"
   ]
  },
  {
   "cell_type": "code",
   "execution_count": 68,
   "id": "a2ea83ab-c37b-4bed-a58c-aa767940945d",
   "metadata": {},
   "outputs": [
    {
     "data": {
      "text/plain": [
       "<matplotlib.legend.Legend at 0x7fb8b8292d50>"
      ]
     },
     "execution_count": 68,
     "metadata": {},
     "output_type": "execute_result"
    },
    {
     "data": {
      "image/png": "[encoded data removed]",
      "text/plain": [
       "<Figure size 640x480 with 1 Axes>"
      ]
     },
     "metadata": {},
     "output_type": "display_data"
    }
   ],
   "source": [
    "for key, df_score in min_child_weight_scores.items():\n",
    "    plt.plot(df_score.num_iter, df_score.val_auc, label=key)\n",
    "# Add more ticks on the y-axis\n",
    "plt.yticks(np.arange(0.95, 0.99, 0.01))  # Adjust the range and step size\n",
    "plt.legend()"
   ]
  },
  {
   "cell_type": "markdown",
   "id": "3cce0928-ae55-497c-81a9-face43542020",
   "metadata": {},
   "source": [
    "**min_child_weight 1 is best**"
   ]
  },
  {
   "cell_type": "markdown",
   "id": "6994b8b8-e973-45ce-bfaf-48396c502394",
   "metadata": {},
   "source": [
    "### Final XGBoost model"
   ]
  },
  {
   "cell_type": "markdown",
   "id": "99222544-f1d6-4ce9-853a-9b6f68732c63",
   "metadata": {},
   "source": [
    "**Parameters: `eta` 0.05 `max_depth` 6, `min_child_weight` 1 "
   ]
  },
  {
   "cell_type": "code",
   "execution_count": 69,
   "id": "90cbb543-14e0-47d5-aefb-5c24a15e926c",
   "metadata": {},
   "outputs": [],
   "source": [
    "# Proceed with creating DMatrix\n",
    "features = X_train.columns.tolist()\n",
    "dtrain = xgb.DMatrix(X_train, label=y_train, feature_names=features)\n",
    "dval = xgb.DMatrix(X_val, label=y_val, feature_names=features)\n",
    "\n",
    "# Define parameters\n",
    "xgb_params = {\n",
    "    'eta': 0.05,\n",
    "    'max_depth': 6,\n",
    "    'min_child_weight': 1,\n",
    "    'objective': 'multi:softprob',\n",
    "    'num_class': 3,\n",
    "    'nthread': -1,\n",
    "    'seed': 1,\n",
    "    'verbosity': 1,\n",
    "}\n",
    "\n",
    "# Train the model\n",
    "model = xgb.train(xgb_params, dtrain, num_boost_round=200)"
   ]
  },
  {
   "cell_type": "code",
   "execution_count": 70,
   "id": "e1ad3650-eb6d-470c-8ea6-53d19977e10a",
   "metadata": {},
   "outputs": [],
   "source": [
    "y_pred = model.predict(dval)"
   ]
  },
  {
   "cell_type": "code",
   "execution_count": 71,
   "id": "bad481bf-aee0-43de-9dab-0d040ebb76cf",
   "metadata": {},
   "outputs": [
    {
     "data": {
      "text/plain": [
       "0.9890640651760071"
      ]
     },
     "execution_count": 71,
     "metadata": {},
     "output_type": "execute_result"
    }
   ],
   "source": [
    "roc_auc_score(y_val, y_pred, multi_class='ovr')"
   ]
  },
  {
   "cell_type": "markdown",
   "id": "3a99646d-e083-427f-9dd1-82e01d065581",
   "metadata": {},
   "source": [
    "**There is a possiblility of overfitting lets check it out**"
   ]
  },
  {
   "cell_type": "code",
   "execution_count": 72,
   "id": "da6bd737-faea-44b5-8d2b-a0892e32e53e",
   "metadata": {},
   "outputs": [],
   "source": [
    "# Calculate class weights\n",
    "class_counts = np.bincount(y_train)  # Count of each class in the training set\n",
    "total_samples = len(y_train)\n",
    "class_weights = total_samples / (len(class_counts) * class_counts)  # Inverse of class frequencies\n",
    "\n",
    "# Normalize weights (optional but recommended)\n",
    "class_weights = class_weights / class_weights.sum()\n",
    "\n",
    "# Map weights to each sample\n",
    "sample_weights = np.array([class_weights[class_id] for class_id in y_train])"
   ]
  },
  {
   "cell_type": "code",
   "execution_count": 73,
   "id": "26fad5f5-b053-4df4-a452-7aafdcd244d6",
   "metadata": {},
   "outputs": [],
   "source": [
    "# Create DMatrix with sample weights\n",
    "dtrain = xgb.DMatrix(X_train, label=y_train, weight=sample_weights, feature_names=features)\n",
    "dval = xgb.DMatrix(X_val, label=y_val, feature_names=features)"
   ]
  },
  {
   "cell_type": "code",
   "execution_count": 74,
   "id": "81f5904e-cf9d-4c0f-8420-334c2114fd3b",
   "metadata": {},
   "outputs": [],
   "source": [
    "# Define parameters\n",
    "xgb_params = {\n",
    "    'eta': 0.05,\n",
    "    'max_depth': 6,\n",
    "    'min_child_weight': 1,\n",
    "    'objective': 'multi:softprob',\n",
    "    'num_class': 3,  # Number of classes\n",
    "    'nthread': -1,\n",
    "    'seed': 1,\n",
    "    'verbosity': 1,\n",
    "}\n",
    "\n",
    "# Train the model\n",
    "model = xgb.train(xgb_params, dtrain, num_boost_round=200)"
   ]
  },
  {
   "cell_type": "code",
   "execution_count": 75,
   "id": "756de818-6132-4db8-b314-29d5792cb945",
   "metadata": {},
   "outputs": [
    {
     "name": "stdout",
     "output_type": "stream",
     "text": [
      "              precision    recall  f1-score   support\n",
      "\n",
      "           0       0.98      0.94      0.96       329\n",
      "           1       0.75      0.88      0.81        58\n",
      "           2       0.88      0.97      0.93        38\n",
      "\n",
      "    accuracy                           0.94       425\n",
      "   macro avg       0.87      0.93      0.90       425\n",
      "weighted avg       0.94      0.94      0.94       425\n",
      "\n"
     ]
    }
   ],
   "source": [
    "# Predict on the validation set\n",
    "y_val_pred = model.predict(dval)\n",
    "y_val_pred = np.argmax(y_val_pred, axis=1)  # Convert probabilities to class labels\n",
    "\n",
    "# Print classification report\n",
    "print(classification_report(y_val, y_val_pred))"
   ]
  },
  {
   "cell_type": "code",
   "execution_count": 76,
   "id": "bf7788bc-8cd0-4eee-bb0b-114bdfe40ad9",
   "metadata": {},
   "outputs": [
    {
     "name": "stdout",
     "output_type": "stream",
     "text": [
      "              precision    recall  f1-score   support\n",
      "\n",
      "           0       1.00      0.97      0.99      1000\n",
      "           1       0.89      1.00      0.94       169\n",
      "           2       0.93      1.00      0.96       106\n",
      "\n",
      "    accuracy                           0.98      1275\n",
      "   macro avg       0.94      0.99      0.96      1275\n",
      "weighted avg       0.98      0.98      0.98      1275\n",
      "\n"
     ]
    }
   ],
   "source": [
    "# Convert X_train to DMatrix\n",
    "dtrain = xgb.DMatrix(X_train, label=y_train)\n",
    "\n",
    "# Predict on the training set\n",
    "y_train_pred = model.predict(dtrain)\n",
    "y_train_pred = np.argmax(y_train_pred, axis=1)  # Convert probabilities to class labels\n",
    "\n",
    "# Generate classification report for training set\n",
    "print(classification_report(y_train, y_train_pred))"
   ]
  },
  {
   "cell_type": "code",
   "execution_count": 77,
   "id": "84d2ea1d-0d2a-4f9c-9b6e-06415a4f4245",
   "metadata": {},
   "outputs": [
    {
     "data": {
      "text/plain": [
       "0.9876331972112459"
      ]
     },
     "execution_count": 77,
     "metadata": {},
     "output_type": "execute_result"
    }
   ],
   "source": [
    "y_pred = model.predict(dval)\n",
    "roc_auc_score(y_val, y_pred, multi_class='ovr')"
   ]
  },
  {
   "cell_type": "markdown",
   "id": "29409021-f98b-457c-80ec-545759906690",
   "metadata": {},
   "source": [
    "**The model is overfitting. Lets reduce the tree depth. And increase min_child_weight. This is a small dataset and it turns out we tuned it too much and it remembered all possible combinations and lost the ability to generalize**"
   ]
  },
  {
   "cell_type": "code",
   "execution_count": 78,
   "id": "eeb9ab33-a48e-4aca-89c1-41ea1c5fa0f9",
   "metadata": {},
   "outputs": [],
   "source": [
    "# Calculate class weights\n",
    "class_counts = np.bincount(y_train)  # Count of each class in the training set\n",
    "total_samples = len(y_train)\n",
    "class_weights = total_samples / (len(class_counts) * class_counts)  # Inverse of class frequencies\n",
    "\n",
    "# Normalize weights (optional but recommended)\n",
    "class_weights = class_weights / class_weights.sum()\n",
    "\n",
    "# Map weights to each sample\n",
    "sample_weights = np.array([class_weights[class_id] for class_id in y_train])\n",
    "\n",
    "# Create DMatrix with sample weights\n",
    "dtrain = xgb.DMatrix(X_train, label=y_train, weight=sample_weights, feature_names=features)\n",
    "dval = xgb.DMatrix(X_val, label=y_val, feature_names=features)\n",
    "\n",
    "# Define parameters\n",
    "xgb_params = {\n",
    "    'eta': 0.05,\n",
    "    'max_depth': 3,\n",
    "    'min_child_weight': 5,\n",
    "    'objective': 'multi:softprob',\n",
    "    'num_class': 3,  # Number of classes\n",
    "    'nthread': -1,\n",
    "    'seed': 1,\n",
    "    'verbosity': 1,\n",
    "}\n",
    "\n",
    "# Train the model\n",
    "model = xgb.train(xgb_params, dtrain, num_boost_round=200)"
   ]
  },
  {
   "cell_type": "markdown",
   "id": "cf38a09f-e873-40f2-baa4-bfe8080123a0",
   "metadata": {},
   "source": [
    "**Lets test the validation dataset**"
   ]
  },
  {
   "cell_type": "code",
   "execution_count": 79,
   "id": "670391bf-2dc0-48de-bd11-2862a2e4df41",
   "metadata": {},
   "outputs": [
    {
     "name": "stdout",
     "output_type": "stream",
     "text": [
      "              precision    recall  f1-score   support\n",
      "\n",
      "           0       0.98      0.90      0.94       329\n",
      "           1       0.65      0.90      0.75        58\n",
      "           2       0.82      0.95      0.88        38\n",
      "\n",
      "    accuracy                           0.90       425\n",
      "   macro avg       0.82      0.91      0.86       425\n",
      "weighted avg       0.92      0.90      0.91       425\n",
      "\n"
     ]
    }
   ],
   "source": [
    "# Predict on the validation set\n",
    "y_val_pred = model.predict(dval)\n",
    "y_val_pred = np.argmax(y_val_pred, axis=1)  # Convert probabilities to class labels\n",
    "\n",
    "# Print classification report\n",
    "print(classification_report(y_val, y_val_pred))"
   ]
  },
  {
   "cell_type": "markdown",
   "id": "90518014-f863-41d9-899b-01278fa9ad21",
   "metadata": {},
   "source": [
    "**And train dataset**"
   ]
  },
  {
   "cell_type": "code",
   "execution_count": 80,
   "id": "af460f03-9cf6-4cb7-bd11-388dacf6511c",
   "metadata": {},
   "outputs": [
    {
     "name": "stdout",
     "output_type": "stream",
     "text": [
      "              precision    recall  f1-score   support\n",
      "\n",
      "           0       0.99      0.92      0.95      1000\n",
      "           1       0.72      0.94      0.81       169\n",
      "           2       0.86      0.99      0.92       106\n",
      "\n",
      "    accuracy                           0.93      1275\n",
      "   macro avg       0.86      0.95      0.90      1275\n",
      "weighted avg       0.94      0.93      0.93      1275\n",
      "\n"
     ]
    }
   ],
   "source": [
    "# Convert X_train to DMatrix\n",
    "dtrain = xgb.DMatrix(X_train, label=y_train)\n",
    "\n",
    "# Predict on the training set\n",
    "y_train_pred = model.predict(dtrain)\n",
    "y_train_pred = np.argmax(y_train_pred, axis=1)  # Convert probabilities to class labels\n",
    "\n",
    "# Generate classification report for training set\n",
    "print(classification_report(y_train, y_train_pred))"
   ]
  },
  {
   "cell_type": "code",
   "execution_count": 81,
   "id": "413b844a-0111-45da-95e5-ca42affdde9c",
   "metadata": {},
   "outputs": [
    {
     "data": {
      "text/plain": [
       "0.9809715861047992"
      ]
     },
     "execution_count": 81,
     "metadata": {},
     "output_type": "execute_result"
    }
   ],
   "source": [
    "y_pred = model.predict(dval)\n",
    "roc_auc_score(y_val, y_pred, multi_class='ovr')"
   ]
  },
  {
   "cell_type": "markdown",
   "id": "46101e76-14d0-42bd-84b3-f5c4d0957824",
   "metadata": {},
   "source": [
    "**It seems xgboost model keeps overfitting**"
   ]
  },
  {
   "cell_type": "markdown",
   "id": "2aae092f-d9a4-460b-ba9e-65db469e2cc3",
   "metadata": {},
   "source": [
    "### We will use a Decision Tree with max_depth 6 and min_samples_leaf 10"
   ]
  },
  {
   "cell_type": "code",
   "execution_count": 82,
   "id": "2964fff9-4d11-4340-bd9f-0f1b0d4814f3",
   "metadata": {},
   "outputs": [
    {
     "data": {
      "text/plain": [
       "0.9694133692985414"
      ]
     },
     "execution_count": 82,
     "metadata": {},
     "output_type": "execute_result"
    }
   ],
   "source": [
    "dt = DecisionTreeClassifier(\n",
    "    class_weight='balanced', \n",
    "    max_depth=6, \n",
    "    min_samples_leaf=10, \n",
    "    random_state=1)\n",
    "dt.fit(X_train, y_train)\n",
    "\n",
    "y_pred = dt.predict_proba(X_val)\n",
    "auc = roc_auc_score(y_val, y_pred, multi_class='ovr')\n",
    "auc"
   ]
  },
  {
   "cell_type": "code",
   "execution_count": 83,
   "id": "05cca6d6-8c79-464f-ab77-7435292448ae",
   "metadata": {},
   "outputs": [
    {
     "name": "stdout",
     "output_type": "stream",
     "text": [
      "              precision    recall  f1-score   support\n",
      "\n",
      "           0       0.98      0.89      0.93       329\n",
      "           1       0.68      0.90      0.77        58\n",
      "           2       0.77      0.97      0.86        38\n",
      "\n",
      "    accuracy                           0.90       425\n",
      "   macro avg       0.81      0.92      0.86       425\n",
      "weighted avg       0.92      0.90      0.91       425\n",
      "\n"
     ]
    }
   ],
   "source": [
    "# Generate class predictions\n",
    "y_pred_class = dt.predict(X_val)\n",
    "\n",
    "# Generate classification report\n",
    "report = classification_report(y_val, y_pred_class)\n",
    "print(report)\n"
   ]
  },
  {
   "cell_type": "markdown",
   "id": "81f87800-5241-443f-82de-46a91d96ef04",
   "metadata": {},
   "source": [
    "## Selecting the model"
   ]
  },
  {
   "cell_type": "code",
   "execution_count": 84,
   "id": "6b95871a-a0fc-41e9-8352-62aa2b4e98f1",
   "metadata": {},
   "outputs": [
    {
     "data": {
      "text/plain": [
       "baseline value                                            125.000\n",
       "accelerations                                               0.000\n",
       "fetal_movement                                              0.000\n",
       "uterine_contractions                                        0.004\n",
       "light_decelerations                                         0.000\n",
       "severe_decelerations                                        0.000\n",
       "prolongued_decelerations                                    0.000\n",
       "abnormal_short_term_variability                            38.000\n",
       "mean_value_of_short_term_variability                        0.800\n",
       "percentage_of_time_with_abnormal_long_term_variability     11.000\n",
       "mean_value_of_long_term_variability                         9.000\n",
       "histogram_width                                            35.000\n",
       "histogram_min                                             103.000\n",
       "histogram_max                                             138.000\n",
       "histogram_number_of_peaks                                   2.000\n",
       "histogram_number_of_zeroes                                  0.000\n",
       "histogram_mode                                            131.000\n",
       "histogram_mean                                            129.000\n",
       "histogram_median                                          131.000\n",
       "histogram_variance                                          1.000\n",
       "histogram_tendency                                          1.000\n",
       "Name: 0, dtype: float64"
      ]
     },
     "execution_count": 84,
     "metadata": {},
     "output_type": "execute_result"
    }
   ],
   "source": [
    "X_train.iloc[0]"
   ]
  },
  {
   "cell_type": "code",
   "execution_count": 85,
   "id": "6d8650ad-b50c-4430-ae9d-e60ecc7e07f4",
   "metadata": {},
   "outputs": [
    {
     "name": "stdout",
     "output_type": "stream",
     "text": [
      "Predicted class: 0\n"
     ]
    },
    {
     "name": "stderr",
     "output_type": "stream",
     "text": [
      "/home/ikar/anaconda3/lib/python3.12/site-packages/sklearn/base.py:493: UserWarning: X does not have valid feature names, but DecisionTreeClassifier was fitted with feature names\n",
      "  warnings.warn(\n"
     ]
    }
   ],
   "source": [
    "# Predict the class for X_train_reduced[0]\n",
    "predicted_class = dt.predict([X_train.iloc[0]])\n",
    "\n",
    "print(\"Predicted class:\", predicted_class[0])"
   ]
  },
  {
   "cell_type": "code",
   "execution_count": 86,
   "id": "28e94fa6-0d5b-41d1-b349-1b308205c942",
   "metadata": {},
   "outputs": [
    {
     "name": "stdout",
     "output_type": "stream",
     "text": [
      "Predicted probabilities: [0.98225298 0.01774702 0.        ]\n"
     ]
    },
    {
     "name": "stderr",
     "output_type": "stream",
     "text": [
      "/home/ikar/anaconda3/lib/python3.12/site-packages/sklearn/base.py:493: UserWarning: X does not have valid feature names, but DecisionTreeClassifier was fitted with feature names\n",
      "  warnings.warn(\n"
     ]
    }
   ],
   "source": [
    "# Get the predicted probabilities for X_train_reduced[0]\n",
    "predicted_probabilities = dt.predict_proba([X_train.iloc[0]])\n",
    "\n",
    "print(\"Predicted probabilities:\", predicted_probabilities[0])"
   ]
  },
  {
   "cell_type": "code",
   "execution_count": 87,
   "id": "dc1b00c0-17f5-4e0f-b5cb-0be2252d6e1f",
   "metadata": {},
   "outputs": [
    {
     "data": {
      "text/plain": [
       "{'baseline value': 120.0,\n",
       " 'accelerations': 0.0,\n",
       " 'fetal_movement': 0.0,\n",
       " 'uterine_contractions': 0.0,\n",
       " 'light_decelerations': 0.0,\n",
       " 'severe_decelerations': 0.0,\n",
       " 'prolongued_decelerations': 0.0,\n",
       " 'abnormal_short_term_variability': 73.0,\n",
       " 'mean_value_of_short_term_variability': 0.5,\n",
       " 'percentage_of_time_with_abnormal_long_term_variability': 43.0,\n",
       " 'mean_value_of_long_term_variability': 2.4,\n",
       " 'histogram_width': 64.0,\n",
       " 'histogram_min': 62.0,\n",
       " 'histogram_max': 126.0,\n",
       " 'histogram_number_of_peaks': 2.0,\n",
       " 'histogram_number_of_zeroes': 0.0,\n",
       " 'histogram_mode': 120.0,\n",
       " 'histogram_mean': 137.0,\n",
       " 'histogram_median': 121.0,\n",
       " 'histogram_variance': 73.0,\n",
       " 'histogram_tendency': 1.0,\n",
       " 'fetal_health': 2.0}"
      ]
     },
     "execution_count": 87,
     "metadata": {},
     "output_type": "execute_result"
    }
   ],
   "source": [
    "df.iloc[0].to_dict()"
   ]
  },
  {
   "cell_type": "code",
   "execution_count": 88,
   "id": "e54c4808-6cf8-49be-8298-83febb63f1d1",
   "metadata": {},
   "outputs": [
    {
     "name": "stdout",
     "output_type": "stream",
     "text": [
      "Unique classes in training: [0 1 2]\n"
     ]
    }
   ],
   "source": [
    "print(\"Unique classes in training:\", dt.classes_)"
   ]
  },
  {
   "cell_type": "code",
   "execution_count": 89,
   "id": "8f9d0581-f842-4ff1-9ab3-8e4edfa3e2f4",
   "metadata": {},
   "outputs": [
    {
     "data": {
      "text/plain": [
       "baseline value                                            106.0\n",
       "accelerations                                               0.0\n",
       "fetal_movement                                              0.0\n",
       "uterine_contractions                                        0.0\n",
       "light_decelerations                                         0.0\n",
       "severe_decelerations                                        0.0\n",
       "prolongued_decelerations                                    0.0\n",
       "abnormal_short_term_variability                            12.0\n",
       "mean_value_of_short_term_variability                        0.2\n",
       "percentage_of_time_with_abnormal_long_term_variability      0.0\n",
       "mean_value_of_long_term_variability                         0.0\n",
       "histogram_width                                             3.0\n",
       "histogram_min                                              50.0\n",
       "histogram_max                                             122.0\n",
       "histogram_number_of_peaks                                   0.0\n",
       "histogram_number_of_zeroes                                  0.0\n",
       "histogram_mode                                             60.0\n",
       "histogram_mean                                             73.0\n",
       "histogram_median                                           77.0\n",
       "histogram_variance                                          0.0\n",
       "histogram_tendency                                         -1.0\n",
       "fetal_health                                                1.0\n",
       "dtype: float64"
      ]
     },
     "metadata": {},
     "output_type": "display_data"
    },
    {
     "data": {
      "text/plain": [
       "baseline value                                            160.000\n",
       "accelerations                                               0.019\n",
       "fetal_movement                                              0.481\n",
       "uterine_contractions                                        0.015\n",
       "light_decelerations                                         0.015\n",
       "severe_decelerations                                        0.001\n",
       "prolongued_decelerations                                    0.005\n",
       "abnormal_short_term_variability                            87.000\n",
       "mean_value_of_short_term_variability                        7.000\n",
       "percentage_of_time_with_abnormal_long_term_variability     91.000\n",
       "mean_value_of_long_term_variability                        50.700\n",
       "histogram_width                                           180.000\n",
       "histogram_min                                             159.000\n",
       "histogram_max                                             238.000\n",
       "histogram_number_of_peaks                                  18.000\n",
       "histogram_number_of_zeroes                                 10.000\n",
       "histogram_mode                                            187.000\n",
       "histogram_mean                                            182.000\n",
       "histogram_median                                          186.000\n",
       "histogram_variance                                        269.000\n",
       "histogram_tendency                                          1.000\n",
       "fetal_health                                                3.000\n",
       "dtype: float64"
      ]
     },
     "metadata": {},
     "output_type": "display_data"
    }
   ],
   "source": [
    "max_values = df.max()\n",
    "min_values = df.min()\n",
    "\n",
    "display(min_values)\n",
    "display(max_values)"
   ]
  }
 ],
 "metadata": {
  "kernelspec": {
   "display_name": "Python 3 (ipykernel)",
   "language": "python",
   "name": "python3"
  },
  "language_info": {
   "codemirror_mode": {
    "name": "ipython",
    "version": 3
   },
   "file_extension": ".py",
   "mimetype": "text/x-python",
   "name": "python",
   "nbconvert_exporter": "python",
   "pygments_lexer": "ipython3",
   "version": "3.12.7"
  }
 },
 "nbformat": 4,
 "nbformat_minor": 5
}
